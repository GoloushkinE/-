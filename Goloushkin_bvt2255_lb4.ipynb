{
  "cells": [
    {
      "cell_type": "markdown",
      "source": [
        "* \"ОПТИМИЗАЦИЯ МОДЕЛЕЙ. ГИПЕРПАРАМЕТРЫ.\" ЛАБ.РАБОТА №4\n",
        "\n"
      ],
      "metadata": {
        "id": "GmTNF5gzQI51"
      },
      "id": "GmTNF5gzQI51"
    },
    {
      "cell_type": "code",
      "execution_count": 1,
      "id": "8a29fdb3-b6f6-4697-93d1-d9fdcb05bb53",
      "metadata": {
        "id": "8a29fdb3-b6f6-4697-93d1-d9fdcb05bb53"
      },
      "outputs": [],
      "source": [
        "import pandas as pd\n",
        "import numpy as np\n",
        "\n",
        "from sklearn.model_selection import train_test_split\n",
        "from sklearn.linear_model import LogisticRegression\n",
        "from sklearn import metrics\n",
        "from sklearn.tree import DecisionTreeClassifier\n",
        "from sklearn.ensemble import RandomForestClassifier\n",
        "from sklearn import metrics\n",
        "from sklearn.preprocessing import StandardScaler\n",
        "from sklearn.preprocessing import OneHotEncoder\n",
        "from sklearn.utils import compute_sample_weight\n",
        "\n",
        "import matplotlib.pyplot as plt\n",
        "\n",
        "from google.colab import drive"
      ]
    },
    {
      "cell_type": "code",
      "execution_count": 2,
      "id": "92902a58-e30f-48db-9d2b-4cff6dd0851f",
      "metadata": {
        "id": "92902a58-e30f-48db-9d2b-4cff6dd0851f",
        "outputId": "32279a16-d616-4d82-e3c9-82ff47a7b2a8",
        "colab": {
          "base_uri": "https://localhost:8080/"
        }
      },
      "outputs": [
        {
          "output_type": "stream",
          "name": "stdout",
          "text": [
            "Mounted at /content/drive\n",
            "/content/drive/MyDrive\n",
            "   Survey_id  Ville_id  sex  Age  Married  Number_children  education_level  \\\n",
            "0        926        91    1   28        1                4               10   \n",
            "1        747        57    1   23        1                3                8   \n",
            "2       1190       115    1   22        1                3                9   \n",
            "3       1065        97    1   27        1                2               10   \n",
            "4        806        42    0   59        0                4               10   \n",
            "\n",
            "   total_members  gained_asset  durable_asset  ...  incoming_salary  \\\n",
            "0              5      28912201       22861940  ...                0   \n",
            "1              5      28912201       22861940  ...                0   \n",
            "2              5      28912201       22861940  ...                0   \n",
            "3              4      52667108       19698904  ...                0   \n",
            "4              6      82606287       17352654  ...                1   \n",
            "\n",
            "   incoming_own_farm  incoming_business  incoming_no_business  \\\n",
            "0                  0                  0                     0   \n",
            "1                  0                  0                     0   \n",
            "2                  0                  0                     0   \n",
            "3                  1                  0                     1   \n",
            "4                  0                  0                     0   \n",
            "\n",
            "   incoming_agricultural  farm_expenses  labor_primary  lasting_investment  \\\n",
            "0               30028818       31363432              0            28411718   \n",
            "1               30028818       31363432              0            28411718   \n",
            "2               30028818       31363432              0            28411718   \n",
            "3               22288055       18751329              0             7781123   \n",
            "4               53384566       20731006              1            20100562   \n",
            "\n",
            "   no_lasting_investmen  depressed  \n",
            "0            28292707.0          0  \n",
            "1            28292707.0          1  \n",
            "2            28292707.0          0  \n",
            "3            69219765.0          0  \n",
            "4            43419447.0          0  \n",
            "\n",
            "[5 rows x 23 columns]\n"
          ]
        }
      ],
      "source": [
        "\n",
        "drive.mount('/content/drive')\n",
        "\n",
        "%cd /content/drive/MyDrive\n",
        "\n",
        "data = pd.read_csv(\"./logic.csv\")\n",
        "data.size\n",
        "print(data.head(5))\n"
      ]
    },
    {
      "cell_type": "code",
      "execution_count": 3,
      "id": "e24d9475-cc06-4c6c-ac84-a382080f0e27",
      "metadata": {
        "id": "e24d9475-cc06-4c6c-ac84-a382080f0e27",
        "outputId": "ac9f2166-5fab-4edc-8cd0-d6cea7c31389",
        "colab": {
          "base_uri": "https://localhost:8080/"
        }
      },
      "outputs": [
        {
          "output_type": "stream",
          "name": "stdout",
          "text": [
            "<class 'pandas.core.frame.DataFrame'>\n",
            "RangeIndex: 1429 entries, 0 to 1428\n",
            "Data columns (total 23 columns):\n",
            " #   Column                 Non-Null Count  Dtype  \n",
            "---  ------                 --------------  -----  \n",
            " 0   Survey_id              1429 non-null   int64  \n",
            " 1   Ville_id               1429 non-null   int64  \n",
            " 2   sex                    1429 non-null   int64  \n",
            " 3   Age                    1429 non-null   int64  \n",
            " 4   Married                1429 non-null   int64  \n",
            " 5   Number_children        1429 non-null   int64  \n",
            " 6   education_level        1429 non-null   int64  \n",
            " 7   total_members          1429 non-null   int64  \n",
            " 8   gained_asset           1429 non-null   int64  \n",
            " 9   durable_asset          1429 non-null   int64  \n",
            " 10  save_asset             1429 non-null   int64  \n",
            " 11  living_expenses        1429 non-null   int64  \n",
            " 12  other_expenses         1429 non-null   int64  \n",
            " 13  incoming_salary        1429 non-null   int64  \n",
            " 14  incoming_own_farm      1429 non-null   int64  \n",
            " 15  incoming_business      1429 non-null   int64  \n",
            " 16  incoming_no_business   1429 non-null   int64  \n",
            " 17  incoming_agricultural  1429 non-null   int64  \n",
            " 18  farm_expenses          1429 non-null   int64  \n",
            " 19  labor_primary          1429 non-null   int64  \n",
            " 20  lasting_investment     1429 non-null   int64  \n",
            " 21  no_lasting_investmen   1409 non-null   float64\n",
            " 22  depressed              1429 non-null   int64  \n",
            "dtypes: float64(1), int64(22)\n",
            "memory usage: 256.9 KB\n"
          ]
        }
      ],
      "source": [
        "data.info(verbose='true', show_counts='true')"
      ]
    },
    {
      "cell_type": "code",
      "execution_count": 4,
      "id": "f70d8a2c-f9ab-44e5-beb4-674fd32cffc0",
      "metadata": {
        "id": "f70d8a2c-f9ab-44e5-beb4-674fd32cffc0",
        "outputId": "bfd5123f-21fc-4f97-e9a8-25aa51ed41bd",
        "colab": {
          "base_uri": "https://localhost:8080/"
        }
      },
      "outputs": [
        {
          "output_type": "execute_result",
          "data": {
            "text/plain": [
              "Survey_id                  int64\n",
              "Ville_id                   int64\n",
              "sex                        int64\n",
              "Age                        int64\n",
              "Married                    int64\n",
              "Number_children            int64\n",
              "education_level            int64\n",
              "total_members              int64\n",
              "gained_asset               int64\n",
              "durable_asset              int64\n",
              "save_asset                 int64\n",
              "living_expenses            int64\n",
              "other_expenses             int64\n",
              "incoming_salary            int64\n",
              "incoming_own_farm          int64\n",
              "incoming_business          int64\n",
              "incoming_no_business       int64\n",
              "incoming_agricultural      int64\n",
              "farm_expenses              int64\n",
              "labor_primary              int64\n",
              "lasting_investment         int64\n",
              "no_lasting_investmen     float64\n",
              "depressed                  int64\n",
              "dtype: object"
            ]
          },
          "metadata": {},
          "execution_count": 4
        }
      ],
      "source": [
        "data.dtypes"
      ]
    },
    {
      "cell_type": "code",
      "execution_count": 5,
      "id": "b82de364-44aa-427d-accd-6bc9124bc895",
      "metadata": {
        "id": "b82de364-44aa-427d-accd-6bc9124bc895",
        "outputId": "d1a571cb-c15b-4cd6-ccff-4bf124a27c2b",
        "colab": {
          "base_uri": "https://localhost:8080/"
        }
      },
      "outputs": [
        {
          "output_type": "stream",
          "name": "stdout",
          "text": [
            "Survey_id                 0\n",
            "Ville_id                  0\n",
            "sex                       0\n",
            "Age                       0\n",
            "Married                   0\n",
            "Number_children           0\n",
            "education_level           0\n",
            "total_members             0\n",
            "gained_asset              0\n",
            "durable_asset             0\n",
            "save_asset                0\n",
            "living_expenses           0\n",
            "other_expenses            0\n",
            "incoming_salary           0\n",
            "incoming_own_farm         0\n",
            "incoming_business         0\n",
            "incoming_no_business      0\n",
            "incoming_agricultural     0\n",
            "farm_expenses             0\n",
            "labor_primary             0\n",
            "lasting_investment        0\n",
            "no_lasting_investmen     20\n",
            "depressed                 0\n",
            "dtype: int64\n"
          ]
        }
      ],
      "source": [
        "print  (data.isna().sum()) #"
      ]
    },
    {
      "cell_type": "code",
      "execution_count": 6,
      "id": "16827712-7cf4-4ce9-af00-037b1dbd402b",
      "metadata": {
        "id": "16827712-7cf4-4ce9-af00-037b1dbd402b",
        "outputId": "6d8221a8-cf50-4dff-90c6-cd707960558d",
        "colab": {
          "base_uri": "https://localhost:8080/"
        }
      },
      "outputs": [
        {
          "output_type": "stream",
          "name": "stdout",
          "text": [
            "Number of duplicates: 0\n"
          ]
        }
      ],
      "source": [
        "duplicates = data.duplicated()\n",
        "print(\"Number of duplicates:\", duplicates.sum())"
      ]
    },
    {
      "cell_type": "code",
      "execution_count": 7,
      "id": "127fb5d7-fa79-4d29-a255-aff50c7e604b",
      "metadata": {
        "id": "127fb5d7-fa79-4d29-a255-aff50c7e604b"
      },
      "outputs": [],
      "source": [
        "# Удаляем пропуски и удаляем столбцы Survey_id', 'Ville_id\n",
        "data = data.dropna()\n",
        "data = data.drop(['Survey_id', 'Ville_id'], axis=1)"
      ]
    },
    {
      "cell_type": "code",
      "execution_count": 8,
      "id": "9ee7f1a2-6e46-4a2c-89a8-d64dcf132843",
      "metadata": {
        "id": "9ee7f1a2-6e46-4a2c-89a8-d64dcf132843",
        "outputId": "f883cddd-c4c1-46ea-bccd-4835c4f867a9",
        "colab": {
          "base_uri": "https://localhost:8080/"
        }
      },
      "outputs": [
        {
          "output_type": "stream",
          "name": "stdout",
          "text": [
            "   sex  Age  Married  Number_children  education_level  total_members  \\\n",
            "0    1   28        1                4               10              5   \n",
            "1    1   23        1                3                8              5   \n",
            "\n",
            "   gained_asset  durable_asset  save_asset  living_expenses  ...  \\\n",
            "0      28912201       22861940    23399979         26692283  ...   \n",
            "1      28912201       22861940    23399979         26692283  ...   \n",
            "\n",
            "   incoming_salary  incoming_own_farm  incoming_business  \\\n",
            "0                0                  0                  0   \n",
            "1                0                  0                  0   \n",
            "\n",
            "   incoming_no_business  incoming_agricultural  farm_expenses  labor_primary  \\\n",
            "0                     0               30028818       31363432              0   \n",
            "1                     0               30028818       31363432              0   \n",
            "\n",
            "   lasting_investment  no_lasting_investmen  depressed  \n",
            "0            28411718            28292707.0          0  \n",
            "1            28411718            28292707.0          1  \n",
            "\n",
            "[2 rows x 21 columns]\n"
          ]
        }
      ],
      "source": [
        "print(data.head(2))"
      ]
    },
    {
      "cell_type": "code",
      "execution_count": 9,
      "id": "6f71878d-d0a7-42b3-87a9-7b76880c5ba5",
      "metadata": {
        "id": "6f71878d-d0a7-42b3-87a9-7b76880c5ba5",
        "outputId": "24629467-4aa9-4023-84a4-8c34a33923d5",
        "colab": {
          "base_uri": "https://localhost:8080/"
        }
      },
      "outputs": [
        {
          "output_type": "stream",
          "name": "stdout",
          "text": [
            "      sex  Age  Married  Number_children  education_level  total_members  \\\n",
            "0       1   28        1                4               10              5   \n",
            "1       1   23        1                3                8              5   \n",
            "2       1   22        1                3                9              5   \n",
            "3       1   27        1                2               10              4   \n",
            "4       0   59        0                4               10              6   \n",
            "...   ...  ...      ...              ...              ...            ...   \n",
            "1424    1   25        1                1                7              5   \n",
            "1425    1   28        1                4               10              6   \n",
            "1426    1   66        0                0                1              1   \n",
            "1427    1   51        1                1               12              5   \n",
            "1428    1   33        0                4                8              5   \n",
            "\n",
            "      gained_asset  durable_asset  save_asset  living_expenses  \\\n",
            "0         28912201       22861940    23399979         26692283   \n",
            "1         28912201       22861940    23399979         26692283   \n",
            "2         28912201       22861940    23399979         26692283   \n",
            "3         52667108       19698904    49647648           397715   \n",
            "4         82606287       17352654    23399979         80877619   \n",
            "...            ...            ...         ...              ...   \n",
            "1424      28912201       22861940    23399979         26692283   \n",
            "1425      15711078       24023054    15506558         10476722   \n",
            "1426      42440731       22861940    22562605         12545372   \n",
            "1427      28912201       22861940    23399979         26692283   \n",
            "1428      81678391       22861940    47855984         10289875   \n",
            "\n",
            "      other_expenses  incoming_salary  incoming_own_farm  incoming_business  \\\n",
            "0           28203066                0                  0                  0   \n",
            "1           28203066                0                  0                  0   \n",
            "2           28203066                0                  0                  0   \n",
            "3           44042267                0                  1                  0   \n",
            "4           74503502                1                  0                  0   \n",
            "...              ...              ...                ...                ...   \n",
            "1424        28203066                0                  0                  0   \n",
            "1425        71588707                0                  1                  0   \n",
            "1426        56534257                0                  1                  0   \n",
            "1427        28203066                0                  0                  0   \n",
            "1428        10730298                0                  1                  0   \n",
            "\n",
            "      incoming_no_business  incoming_agricultural  farm_expenses  \\\n",
            "0                        0               30028818       31363432   \n",
            "1                        0               30028818       31363432   \n",
            "2                        0               30028818       31363432   \n",
            "3                        1               22288055       18751329   \n",
            "4                        0               53384566       20731006   \n",
            "...                    ...                    ...            ...   \n",
            "1424                     0               30028818       31363432   \n",
            "1425                     0               23022095        1021536   \n",
            "1426                     0               12545373       10454478   \n",
            "1427                     0               30028818       31363432   \n",
            "1428                     1               20019212       16682677   \n",
            "\n",
            "      labor_primary  lasting_investment  no_lasting_investmen  \n",
            "0                 0            28411718            28292707.0  \n",
            "1                 0            28411718            28292707.0  \n",
            "2                 0            28411718            28292707.0  \n",
            "3                 0             7781123            69219765.0  \n",
            "4                 1            20100562            43419447.0  \n",
            "...             ...                 ...                   ...  \n",
            "1424              0            28411718            28292707.0  \n",
            "1425              0             1823477            47384361.0  \n",
            "1426              0            46444572            10454478.0  \n",
            "1427              0            28411718            28292707.0  \n",
            "1428              0            69642126            13012488.0  \n",
            "\n",
            "[1409 rows x 20 columns]\n"
          ]
        }
      ],
      "source": [
        "target = data['depressed']\n",
        "features = data.drop('depressed' , axis =1)\n",
        "print (features)"
      ]
    },
    {
      "cell_type": "code",
      "execution_count": 10,
      "id": "cade3653-aa05-4584-a7b7-a2d0345f0cd1",
      "metadata": {
        "id": "cade3653-aa05-4584-a7b7-a2d0345f0cd1"
      },
      "outputs": [],
      "source": [
        "scaler = StandardScaler()\n",
        "features_fit = scaler.fit_transform(features)\n",
        "\n",
        "\n",
        "\n",
        "data_train, data_test, target_train, target_test = train_test_split(features, target, test_size = 0.3, random_state = 32)\n",
        "\n",
        "#data_train_scaler = scaler.fit_transform(X = data_train)\n",
        "#data_test_scaler = scaler.fit_transform(X = data_test)\n",
        "\n",
        "\n",
        "\n",
        "\n"
      ]
    },
    {
      "cell_type": "code",
      "execution_count": 11,
      "id": "2a590cbd-a698-490c-b004-5b8633573f1e",
      "metadata": {
        "id": "2a590cbd-a698-490c-b004-5b8633573f1e",
        "outputId": "7c49e485-e8f2-425e-81e0-bdc94659eef4",
        "colab": {
          "base_uri": "https://localhost:8080/",
          "height": 75
        }
      },
      "outputs": [
        {
          "output_type": "execute_result",
          "data": {
            "text/plain": [
              "LogisticRegression()"
            ],
            "text/html": [
              "<style>#sk-container-id-1 {color: black;background-color: white;}#sk-container-id-1 pre{padding: 0;}#sk-container-id-1 div.sk-toggleable {background-color: white;}#sk-container-id-1 label.sk-toggleable__label {cursor: pointer;display: block;width: 100%;margin-bottom: 0;padding: 0.3em;box-sizing: border-box;text-align: center;}#sk-container-id-1 label.sk-toggleable__label-arrow:before {content: \"▸\";float: left;margin-right: 0.25em;color: #696969;}#sk-container-id-1 label.sk-toggleable__label-arrow:hover:before {color: black;}#sk-container-id-1 div.sk-estimator:hover label.sk-toggleable__label-arrow:before {color: black;}#sk-container-id-1 div.sk-toggleable__content {max-height: 0;max-width: 0;overflow: hidden;text-align: left;background-color: #f0f8ff;}#sk-container-id-1 div.sk-toggleable__content pre {margin: 0.2em;color: black;border-radius: 0.25em;background-color: #f0f8ff;}#sk-container-id-1 input.sk-toggleable__control:checked~div.sk-toggleable__content {max-height: 200px;max-width: 100%;overflow: auto;}#sk-container-id-1 input.sk-toggleable__control:checked~label.sk-toggleable__label-arrow:before {content: \"▾\";}#sk-container-id-1 div.sk-estimator input.sk-toggleable__control:checked~label.sk-toggleable__label {background-color: #d4ebff;}#sk-container-id-1 div.sk-label input.sk-toggleable__control:checked~label.sk-toggleable__label {background-color: #d4ebff;}#sk-container-id-1 input.sk-hidden--visually {border: 0;clip: rect(1px 1px 1px 1px);clip: rect(1px, 1px, 1px, 1px);height: 1px;margin: -1px;overflow: hidden;padding: 0;position: absolute;width: 1px;}#sk-container-id-1 div.sk-estimator {font-family: monospace;background-color: #f0f8ff;border: 1px dotted black;border-radius: 0.25em;box-sizing: border-box;margin-bottom: 0.5em;}#sk-container-id-1 div.sk-estimator:hover {background-color: #d4ebff;}#sk-container-id-1 div.sk-parallel-item::after {content: \"\";width: 100%;border-bottom: 1px solid gray;flex-grow: 1;}#sk-container-id-1 div.sk-label:hover label.sk-toggleable__label {background-color: #d4ebff;}#sk-container-id-1 div.sk-serial::before {content: \"\";position: absolute;border-left: 1px solid gray;box-sizing: border-box;top: 0;bottom: 0;left: 50%;z-index: 0;}#sk-container-id-1 div.sk-serial {display: flex;flex-direction: column;align-items: center;background-color: white;padding-right: 0.2em;padding-left: 0.2em;position: relative;}#sk-container-id-1 div.sk-item {position: relative;z-index: 1;}#sk-container-id-1 div.sk-parallel {display: flex;align-items: stretch;justify-content: center;background-color: white;position: relative;}#sk-container-id-1 div.sk-item::before, #sk-container-id-1 div.sk-parallel-item::before {content: \"\";position: absolute;border-left: 1px solid gray;box-sizing: border-box;top: 0;bottom: 0;left: 50%;z-index: -1;}#sk-container-id-1 div.sk-parallel-item {display: flex;flex-direction: column;z-index: 1;position: relative;background-color: white;}#sk-container-id-1 div.sk-parallel-item:first-child::after {align-self: flex-end;width: 50%;}#sk-container-id-1 div.sk-parallel-item:last-child::after {align-self: flex-start;width: 50%;}#sk-container-id-1 div.sk-parallel-item:only-child::after {width: 0;}#sk-container-id-1 div.sk-dashed-wrapped {border: 1px dashed gray;margin: 0 0.4em 0.5em 0.4em;box-sizing: border-box;padding-bottom: 0.4em;background-color: white;}#sk-container-id-1 div.sk-label label {font-family: monospace;font-weight: bold;display: inline-block;line-height: 1.2em;}#sk-container-id-1 div.sk-label-container {text-align: center;}#sk-container-id-1 div.sk-container {/* jupyter's `normalize.less` sets `[hidden] { display: none; }` but bootstrap.min.css set `[hidden] { display: none !important; }` so we also need the `!important` here to be able to override the default hidden behavior on the sphinx rendered scikit-learn.org. See: https://github.com/scikit-learn/scikit-learn/issues/21755 */display: inline-block !important;position: relative;}#sk-container-id-1 div.sk-text-repr-fallback {display: none;}</style><div id=\"sk-container-id-1\" class=\"sk-top-container\"><div class=\"sk-text-repr-fallback\"><pre>LogisticRegression()</pre><b>In a Jupyter environment, please rerun this cell to show the HTML representation or trust the notebook. <br />On GitHub, the HTML representation is unable to render, please try loading this page with nbviewer.org.</b></div><div class=\"sk-container\" hidden><div class=\"sk-item\"><div class=\"sk-estimator sk-toggleable\"><input class=\"sk-toggleable__control sk-hidden--visually\" id=\"sk-estimator-id-1\" type=\"checkbox\" checked><label for=\"sk-estimator-id-1\" class=\"sk-toggleable__label sk-toggleable__label-arrow\">LogisticRegression</label><div class=\"sk-toggleable__content\"><pre>LogisticRegression()</pre></div></div></div></div></div>"
            ]
          },
          "metadata": {},
          "execution_count": 11
        }
      ],
      "source": [
        "log_reg = LogisticRegression()\n",
        "log_reg.fit(data_train, target_train)"
      ]
    },
    {
      "cell_type": "code",
      "execution_count": 12,
      "id": "37c99378-7099-4bb4-b6e9-27ef3456f53f",
      "metadata": {
        "id": "37c99378-7099-4bb4-b6e9-27ef3456f53f"
      },
      "outputs": [],
      "source": [
        "pred = log_reg.predict(data_test)"
      ]
    },
    {
      "cell_type": "code",
      "execution_count": 13,
      "id": "ce5d9996-7dfb-4756-a897-b5b99b942db4",
      "metadata": {
        "id": "ce5d9996-7dfb-4756-a897-b5b99b942db4",
        "outputId": "439018f1-9155-4c7d-9cf6-9505bfc81498",
        "colab": {
          "base_uri": "https://localhost:8080/"
        }
      },
      "outputs": [
        {
          "output_type": "stream",
          "name": "stdout",
          "text": [
            "[0 0 0 0 0 0 0 0 0 0 0 0 0 0 0 0 0 0 0 0 0 0 0 0 0 0 0 0 0 0 0 0 0 0 0 0 0\n",
            " 0 0 0 0 0 0 0 0 0 0 0 0 0 0 0 0 0 0 0 0 0 0 0 0 0 0 0 0 0 0 0 0 0 0 0 0 0\n",
            " 0 0 0 0 0 0 0 0 0 0 0 0 0 0 0 0 0 0 0 0 0 0 0 0 0 0 0 0 0 0 0 0 0 0 0 0 0\n",
            " 0 0 0 0 0 0 0 0 0 0 0 0 0 0 0 0 0 0 0 0 0 0 0 0 0 0 0 0 0 0 0 0 0 0 0 0 0\n",
            " 0 0 0 0 0 0 0 0 0 0 0 0 0 0 0 0 0 0 0 0 0 0 0 0 0 0 0 0 0 0 0 0 0 0 0 0 0\n",
            " 0 0 0 0 0 0 0 0 0 0 0 0 0 0 0 0 0 0 0 0 0 0 0 0 0 0 0 0 0 0 0 0 0 0 0 0 0\n",
            " 0 0 0 0 0 0 0 0 0 0 0 0 0 0 0 0 0 0 0 0 0 0 0 0 0 0 0 0 0 0 0 0 0 0 0 0 0\n",
            " 0 0 0 0 0 0 0 0 0 0 0 0 0 0 0 0 0 0 0 0 0 0 0 0 0 0 0 0 0 0 0 0 0 0 0 0 0\n",
            " 0 0 0 0 0 0 0 0 0 0 0 0 0 0 0 0 0 0 0 0 0 0 0 0 0 0 0 0 0 0 0 0 0 0 0 0 0\n",
            " 0 0 0 0 0 0 0 0 0 0 0 0 0 0 0 0 0 0 0 0 0 0 0 0 0 0 0 0 0 0 0 0 0 0 0 0 0\n",
            " 0 0 0 0 0 0 0 0 0 0 0 0 0 0 0 0 0 0 0 0 0 0 0 0 0 0 0 0 0 0 0 0 0 0 0 0 0\n",
            " 0 0 0 0 0 0 0 0 0 0 0 0 0 0 0 0]\n"
          ]
        }
      ],
      "source": [
        "print(pred)"
      ]
    },
    {
      "cell_type": "code",
      "execution_count": 14,
      "id": "d3d6b3a4-8958-4d1a-b291-271aab1d7efd",
      "metadata": {
        "id": "d3d6b3a4-8958-4d1a-b291-271aab1d7efd",
        "outputId": "cabdc112-2d71-45ef-e51d-3b2c853bdbdf",
        "colab": {
          "base_uri": "https://localhost:8080/"
        }
      },
      "outputs": [
        {
          "output_type": "stream",
          "name": "stdout",
          "text": [
            "1296    0\n",
            "1354    0\n",
            "1352    0\n",
            "25      0\n",
            "112     0\n",
            "       ..\n",
            "885     0\n",
            "678     1\n",
            "1226    0\n",
            "7       0\n",
            "883     1\n",
            "Name: depressed, Length: 423, dtype: int64\n"
          ]
        }
      ],
      "source": [
        "print(target_test)#"
      ]
    },
    {
      "cell_type": "code",
      "execution_count": 15,
      "id": "e2601e25-a16f-4e68-8bc8-93d8fc571c5a",
      "metadata": {
        "id": "e2601e25-a16f-4e68-8bc8-93d8fc571c5a"
      },
      "outputs": [],
      "source": [
        "cnf_mat = metrics.confusion_matrix(pred, target_test)"
      ]
    },
    {
      "cell_type": "code",
      "execution_count": 16,
      "id": "a0e418ec-73e6-4272-9d83-936bddece057",
      "metadata": {
        "id": "a0e418ec-73e6-4272-9d83-936bddece057",
        "outputId": "2544226a-5767-4534-eaf3-4a20e19f213e",
        "colab": {
          "base_uri": "https://localhost:8080/"
        }
      },
      "outputs": [
        {
          "output_type": "stream",
          "name": "stdout",
          "text": [
            "[[345  78]\n",
            " [  0   0]]\n",
            "Accuracy:  0.8156028368794326\n"
          ]
        }
      ],
      "source": [
        "print (cnf_mat)\n",
        "print(\"Accuracy: \" , metrics.accuracy_score(pred, target_test))"
      ]
    },
    {
      "cell_type": "code",
      "execution_count": 17,
      "id": "48f68072-9f06-4b4d-8a1e-bc3da1c0985f",
      "metadata": {
        "id": "48f68072-9f06-4b4d-8a1e-bc3da1c0985f",
        "outputId": "301c66aa-5ed6-4ef0-a595-3671149e0c9c",
        "colab": {
          "base_uri": "https://localhost:8080/",
          "height": 75
        }
      },
      "outputs": [
        {
          "output_type": "execute_result",
          "data": {
            "text/plain": [
              "LogisticRegression()"
            ],
            "text/html": [
              "<style>#sk-container-id-2 {color: black;background-color: white;}#sk-container-id-2 pre{padding: 0;}#sk-container-id-2 div.sk-toggleable {background-color: white;}#sk-container-id-2 label.sk-toggleable__label {cursor: pointer;display: block;width: 100%;margin-bottom: 0;padding: 0.3em;box-sizing: border-box;text-align: center;}#sk-container-id-2 label.sk-toggleable__label-arrow:before {content: \"▸\";float: left;margin-right: 0.25em;color: #696969;}#sk-container-id-2 label.sk-toggleable__label-arrow:hover:before {color: black;}#sk-container-id-2 div.sk-estimator:hover label.sk-toggleable__label-arrow:before {color: black;}#sk-container-id-2 div.sk-toggleable__content {max-height: 0;max-width: 0;overflow: hidden;text-align: left;background-color: #f0f8ff;}#sk-container-id-2 div.sk-toggleable__content pre {margin: 0.2em;color: black;border-radius: 0.25em;background-color: #f0f8ff;}#sk-container-id-2 input.sk-toggleable__control:checked~div.sk-toggleable__content {max-height: 200px;max-width: 100%;overflow: auto;}#sk-container-id-2 input.sk-toggleable__control:checked~label.sk-toggleable__label-arrow:before {content: \"▾\";}#sk-container-id-2 div.sk-estimator input.sk-toggleable__control:checked~label.sk-toggleable__label {background-color: #d4ebff;}#sk-container-id-2 div.sk-label input.sk-toggleable__control:checked~label.sk-toggleable__label {background-color: #d4ebff;}#sk-container-id-2 input.sk-hidden--visually {border: 0;clip: rect(1px 1px 1px 1px);clip: rect(1px, 1px, 1px, 1px);height: 1px;margin: -1px;overflow: hidden;padding: 0;position: absolute;width: 1px;}#sk-container-id-2 div.sk-estimator {font-family: monospace;background-color: #f0f8ff;border: 1px dotted black;border-radius: 0.25em;box-sizing: border-box;margin-bottom: 0.5em;}#sk-container-id-2 div.sk-estimator:hover {background-color: #d4ebff;}#sk-container-id-2 div.sk-parallel-item::after {content: \"\";width: 100%;border-bottom: 1px solid gray;flex-grow: 1;}#sk-container-id-2 div.sk-label:hover label.sk-toggleable__label {background-color: #d4ebff;}#sk-container-id-2 div.sk-serial::before {content: \"\";position: absolute;border-left: 1px solid gray;box-sizing: border-box;top: 0;bottom: 0;left: 50%;z-index: 0;}#sk-container-id-2 div.sk-serial {display: flex;flex-direction: column;align-items: center;background-color: white;padding-right: 0.2em;padding-left: 0.2em;position: relative;}#sk-container-id-2 div.sk-item {position: relative;z-index: 1;}#sk-container-id-2 div.sk-parallel {display: flex;align-items: stretch;justify-content: center;background-color: white;position: relative;}#sk-container-id-2 div.sk-item::before, #sk-container-id-2 div.sk-parallel-item::before {content: \"\";position: absolute;border-left: 1px solid gray;box-sizing: border-box;top: 0;bottom: 0;left: 50%;z-index: -1;}#sk-container-id-2 div.sk-parallel-item {display: flex;flex-direction: column;z-index: 1;position: relative;background-color: white;}#sk-container-id-2 div.sk-parallel-item:first-child::after {align-self: flex-end;width: 50%;}#sk-container-id-2 div.sk-parallel-item:last-child::after {align-self: flex-start;width: 50%;}#sk-container-id-2 div.sk-parallel-item:only-child::after {width: 0;}#sk-container-id-2 div.sk-dashed-wrapped {border: 1px dashed gray;margin: 0 0.4em 0.5em 0.4em;box-sizing: border-box;padding-bottom: 0.4em;background-color: white;}#sk-container-id-2 div.sk-label label {font-family: monospace;font-weight: bold;display: inline-block;line-height: 1.2em;}#sk-container-id-2 div.sk-label-container {text-align: center;}#sk-container-id-2 div.sk-container {/* jupyter's `normalize.less` sets `[hidden] { display: none; }` but bootstrap.min.css set `[hidden] { display: none !important; }` so we also need the `!important` here to be able to override the default hidden behavior on the sphinx rendered scikit-learn.org. See: https://github.com/scikit-learn/scikit-learn/issues/21755 */display: inline-block !important;position: relative;}#sk-container-id-2 div.sk-text-repr-fallback {display: none;}</style><div id=\"sk-container-id-2\" class=\"sk-top-container\"><div class=\"sk-text-repr-fallback\"><pre>LogisticRegression()</pre><b>In a Jupyter environment, please rerun this cell to show the HTML representation or trust the notebook. <br />On GitHub, the HTML representation is unable to render, please try loading this page with nbviewer.org.</b></div><div class=\"sk-container\" hidden><div class=\"sk-item\"><div class=\"sk-estimator sk-toggleable\"><input class=\"sk-toggleable__control sk-hidden--visually\" id=\"sk-estimator-id-2\" type=\"checkbox\" checked><label for=\"sk-estimator-id-2\" class=\"sk-toggleable__label sk-toggleable__label-arrow\">LogisticRegression</label><div class=\"sk-toggleable__content\"><pre>LogisticRegression()</pre></div></div></div></div></div>"
            ]
          },
          "metadata": {},
          "execution_count": 17
        }
      ],
      "source": [
        "# балансировка\n",
        "sample_weights = compute_sample_weight(\"balanced\", data_train)\n",
        "log_reg.fit(data_train, target_train, sample_weight=sample_weights)"
      ]
    },
    {
      "cell_type": "code",
      "execution_count": 18,
      "id": "03a79838-d663-4bc8-ad67-3037a3cf5393",
      "metadata": {
        "id": "03a79838-d663-4bc8-ad67-3037a3cf5393",
        "outputId": "754d8eb4-c023-4bc4-d135-c8c27c2fc76a",
        "colab": {
          "base_uri": "https://localhost:8080/"
        }
      },
      "outputs": [
        {
          "output_type": "stream",
          "name": "stdout",
          "text": [
            "[[734 145]\n",
            " [ 95  12]]\n"
          ]
        }
      ],
      "source": [
        "#после балансировки создаем новую переменную и делаем для нее предикт\n",
        "pred_train  =  log_reg.predict(data_train)\n",
        "cnf_mat_tr =  metrics.confusion_matrix(pred_train, target_train)\n",
        "print(cnf_mat_tr)"
      ]
    },
    {
      "cell_type": "code",
      "execution_count": 19,
      "id": "c8463cfc-5a60-4975-b712-455015616dea",
      "metadata": {
        "id": "c8463cfc-5a60-4975-b712-455015616dea"
      },
      "outputs": [],
      "source": [
        "#импортируем  precision_score, recall_score, f1_score, accuracy_score и создаем для каждой свою переменную\n",
        "acuracy_train = metrics.accuracy_score(pred_train, target_train)\n",
        "precision_train = metrics.precision_score(pred_train, target_train)\n",
        "recall_train = metrics.recall_score(pred_train, target_train)\n",
        "f1_train = metrics.f1_score(pred_train, target_train)"
      ]
    },
    {
      "cell_type": "code",
      "execution_count": 20,
      "id": "e9338824-69a2-41da-b5bd-4137be687821",
      "metadata": {
        "id": "e9338824-69a2-41da-b5bd-4137be687821",
        "outputId": "66511af0-9ee6-4b90-85c6-50181df9507f",
        "colab": {
          "base_uri": "https://localhost:8080/"
        }
      },
      "outputs": [
        {
          "output_type": "stream",
          "name": "stdout",
          "text": [
            "check accurasy\n",
            "0.7565922920892495 == 0.7565922920892495\n",
            "check precision\n",
            "0.07643312101910828 == 0.07643312101910828\n",
            "check recall \n",
            "0.11214953271028037 == 0.11214953271028037\n",
            "check f1 \n",
            "0.09090909090909091 == 0.09090909090909091\n"
          ]
        }
      ],
      "source": [
        "tn, fp, fn, tp  = cnf_mat_tr.ravel()\n",
        "all = tn+ fp+ fn + tp\n",
        "\n",
        "\n",
        "print(\"check accurasy\")\n",
        "my_accurasy =  (tp+tn)/all\n",
        "print (my_accurasy, \"==\", acuracy_train)\n",
        "print(\"check precision\")\n",
        "my_precision = tp/(tp+fp)\n",
        "print (my_precision, \"==\", precision_train)\n",
        "\n",
        "print(\"check recall \")\n",
        "my_recall = tp/(tp+fn)\n",
        "print (my_recall, \"==\", recall_train)\n",
        "\n",
        "print(\"check f1 \")\n",
        "my_f1 =   2*(my_precision * my_recall) / (my_precision + my_recall)\n",
        "print (my_f1, \"==\", f1_train)"
      ]
    },
    {
      "cell_type": "code",
      "execution_count": 21,
      "id": "9cce6ed0-27a4-4ed6-a3d9-54f550db964a",
      "metadata": {
        "id": "9cce6ed0-27a4-4ed6-a3d9-54f550db964a"
      },
      "outputs": [],
      "source": [
        "#проделаем те же действия для test\n",
        "pred_2 =  log_reg.predict(data_test)"
      ]
    },
    {
      "cell_type": "code",
      "execution_count": 22,
      "id": "497a8f0a-f98e-40b6-af53-0d28cca3ec12",
      "metadata": {
        "id": "497a8f0a-f98e-40b6-af53-0d28cca3ec12"
      },
      "outputs": [],
      "source": [
        "cnf_mat_2 = metrics.confusion_matrix(pred_2, target_test)"
      ]
    },
    {
      "cell_type": "code",
      "execution_count": 23,
      "id": "68e90a70-62a0-4f27-a64c-637b82247170",
      "metadata": {
        "id": "68e90a70-62a0-4f27-a64c-637b82247170",
        "outputId": "3b328a49-a798-4ac7-f416-03818d840b6c",
        "colab": {
          "base_uri": "https://localhost:8080/"
        }
      },
      "outputs": [
        {
          "output_type": "stream",
          "name": "stdout",
          "text": [
            "[[345  78]\n",
            " [  0   0]]\n",
            "Accuracy:  0.7494089834515366\n"
          ]
        }
      ],
      "source": [
        "print (cnf_mat)\n",
        "print(\"Accuracy: \" , metrics.accuracy_score(pred_2, target_test))"
      ]
    },
    {
      "cell_type": "code",
      "execution_count": 24,
      "id": "4691727c-1b51-4ee2-93b8-4015da9b0c58",
      "metadata": {
        "id": "4691727c-1b51-4ee2-93b8-4015da9b0c58"
      },
      "outputs": [],
      "source": [
        "acurasy_s = metrics.accuracy_score(pred_2, target_test)\n",
        "precision_s = metrics.precision_score(pred_2, target_test)\n",
        "recall_s = metrics.recall_score(pred_2, target_test)\n",
        "f1_s = metrics.f1_score(pred_2, target_test)"
      ]
    },
    {
      "cell_type": "code",
      "execution_count": 25,
      "id": "9575bd3a-5ada-41e5-9a0f-b5e6cfb6b14c",
      "metadata": {
        "id": "9575bd3a-5ada-41e5-9a0f-b5e6cfb6b14c"
      },
      "outputs": [],
      "source": [
        "# TP  FP\n",
        "# FN  TN\n",
        "tn, fp, fn, tp  = cnf_mat_2.ravel()\n",
        "all = tn+ fp+ fn + tp"
      ]
    },
    {
      "cell_type": "code",
      "execution_count": 26,
      "id": "fe539af7-82c5-4651-8a20-0ff9cc937c02",
      "metadata": {
        "id": "fe539af7-82c5-4651-8a20-0ff9cc937c02"
      },
      "outputs": [],
      "source": [
        "my_accurasy =  (tp+tn)/all"
      ]
    },
    {
      "cell_type": "code",
      "execution_count": 27,
      "id": "126ad0d8-40c0-4459-a234-a79d4c27c4c9",
      "metadata": {
        "id": "126ad0d8-40c0-4459-a234-a79d4c27c4c9",
        "outputId": "d685673f-fd1f-4cc6-8e1c-b22678d9bd89",
        "colab": {
          "base_uri": "https://localhost:8080/"
        }
      },
      "outputs": [
        {
          "output_type": "stream",
          "name": "stdout",
          "text": [
            "0.7494089834515366 == 0.7494089834515366\n"
          ]
        }
      ],
      "source": [
        "print (my_accurasy, \"==\", acurasy_s)\n"
      ]
    },
    {
      "cell_type": "code",
      "execution_count": 28,
      "id": "d829d6fb-ed63-45c1-b405-9e0f58f5d90e",
      "metadata": {
        "id": "d829d6fb-ed63-45c1-b405-9e0f58f5d90e"
      },
      "outputs": [],
      "source": [
        "my_precision = tp/(tp+fp)"
      ]
    },
    {
      "cell_type": "code",
      "execution_count": 29,
      "id": "ffa14a7e-9aa7-44cb-8259-91943e4520a7",
      "metadata": {
        "id": "ffa14a7e-9aa7-44cb-8259-91943e4520a7",
        "outputId": "54c7646f-37df-4456-f1b7-9a830e187cd4",
        "colab": {
          "base_uri": "https://localhost:8080/"
        }
      },
      "outputs": [
        {
          "output_type": "stream",
          "name": "stdout",
          "text": [
            "0.08974358974358974 == 0.08974358974358974\n"
          ]
        }
      ],
      "source": [
        "print (my_precision, \"==\", precision_s)"
      ]
    },
    {
      "cell_type": "code",
      "execution_count": 30,
      "id": "6fd583e4-6b90-4d1d-955a-095fb080699e",
      "metadata": {
        "id": "6fd583e4-6b90-4d1d-955a-095fb080699e"
      },
      "outputs": [],
      "source": [
        "my_recall = tp/(tp+fn)"
      ]
    },
    {
      "cell_type": "code",
      "execution_count": 31,
      "id": "e327320e-a818-446d-bd26-f423211f625d",
      "metadata": {
        "id": "e327320e-a818-446d-bd26-f423211f625d",
        "outputId": "b5aa2f02-ed1f-441f-acf5-ef49ec028b1d",
        "colab": {
          "base_uri": "https://localhost:8080/"
        }
      },
      "outputs": [
        {
          "output_type": "stream",
          "name": "stdout",
          "text": [
            "0.16666666666666666 == 0.16666666666666666\n"
          ]
        }
      ],
      "source": [
        "print (my_recall, \"==\", recall_s)"
      ]
    },
    {
      "cell_type": "code",
      "execution_count": 32,
      "id": "03b1e328-6bdb-481c-8831-4493e611a5ab",
      "metadata": {
        "id": "03b1e328-6bdb-481c-8831-4493e611a5ab"
      },
      "outputs": [],
      "source": [
        "my_f1 =   2*(my_precision * my_recall) / (my_precision + my_recall)"
      ]
    },
    {
      "cell_type": "code",
      "execution_count": 33,
      "id": "c6d5f550-e9ca-47d4-a516-57b2fa7ee578",
      "metadata": {
        "id": "c6d5f550-e9ca-47d4-a516-57b2fa7ee578",
        "outputId": "8a7163a9-18fc-4584-c652-337947862ff2",
        "colab": {
          "base_uri": "https://localhost:8080/"
        }
      },
      "outputs": [
        {
          "output_type": "stream",
          "name": "stdout",
          "text": [
            "0.11666666666666667 == 0.11666666666666667\n"
          ]
        }
      ],
      "source": [
        "print (my_f1, \"==\", f1_s)"
      ]
    },
    {
      "cell_type": "code",
      "execution_count": 47,
      "id": "dd16c8b3-21a3-4135-80f1-bbcc40dc496c",
      "metadata": {
        "id": "dd16c8b3-21a3-4135-80f1-bbcc40dc496c",
        "colab": {
          "base_uri": "https://localhost:8080/",
          "height": 92
        },
        "outputId": "e472edcc-7875-4cba-e301-fe1a15bf6b57"
      },
      "outputs": [
        {
          "output_type": "execute_result",
          "data": {
            "text/plain": [
              "RandomForestClassifier(max_depth=42, max_leaf_nodes=38, min_samples_leaf=30,\n",
              "                       n_estimators=152)"
            ],
            "text/html": [
              "<style>#sk-container-id-10 {color: black;background-color: white;}#sk-container-id-10 pre{padding: 0;}#sk-container-id-10 div.sk-toggleable {background-color: white;}#sk-container-id-10 label.sk-toggleable__label {cursor: pointer;display: block;width: 100%;margin-bottom: 0;padding: 0.3em;box-sizing: border-box;text-align: center;}#sk-container-id-10 label.sk-toggleable__label-arrow:before {content: \"▸\";float: left;margin-right: 0.25em;color: #696969;}#sk-container-id-10 label.sk-toggleable__label-arrow:hover:before {color: black;}#sk-container-id-10 div.sk-estimator:hover label.sk-toggleable__label-arrow:before {color: black;}#sk-container-id-10 div.sk-toggleable__content {max-height: 0;max-width: 0;overflow: hidden;text-align: left;background-color: #f0f8ff;}#sk-container-id-10 div.sk-toggleable__content pre {margin: 0.2em;color: black;border-radius: 0.25em;background-color: #f0f8ff;}#sk-container-id-10 input.sk-toggleable__control:checked~div.sk-toggleable__content {max-height: 200px;max-width: 100%;overflow: auto;}#sk-container-id-10 input.sk-toggleable__control:checked~label.sk-toggleable__label-arrow:before {content: \"▾\";}#sk-container-id-10 div.sk-estimator input.sk-toggleable__control:checked~label.sk-toggleable__label {background-color: #d4ebff;}#sk-container-id-10 div.sk-label input.sk-toggleable__control:checked~label.sk-toggleable__label {background-color: #d4ebff;}#sk-container-id-10 input.sk-hidden--visually {border: 0;clip: rect(1px 1px 1px 1px);clip: rect(1px, 1px, 1px, 1px);height: 1px;margin: -1px;overflow: hidden;padding: 0;position: absolute;width: 1px;}#sk-container-id-10 div.sk-estimator {font-family: monospace;background-color: #f0f8ff;border: 1px dotted black;border-radius: 0.25em;box-sizing: border-box;margin-bottom: 0.5em;}#sk-container-id-10 div.sk-estimator:hover {background-color: #d4ebff;}#sk-container-id-10 div.sk-parallel-item::after {content: \"\";width: 100%;border-bottom: 1px solid gray;flex-grow: 1;}#sk-container-id-10 div.sk-label:hover label.sk-toggleable__label {background-color: #d4ebff;}#sk-container-id-10 div.sk-serial::before {content: \"\";position: absolute;border-left: 1px solid gray;box-sizing: border-box;top: 0;bottom: 0;left: 50%;z-index: 0;}#sk-container-id-10 div.sk-serial {display: flex;flex-direction: column;align-items: center;background-color: white;padding-right: 0.2em;padding-left: 0.2em;position: relative;}#sk-container-id-10 div.sk-item {position: relative;z-index: 1;}#sk-container-id-10 div.sk-parallel {display: flex;align-items: stretch;justify-content: center;background-color: white;position: relative;}#sk-container-id-10 div.sk-item::before, #sk-container-id-10 div.sk-parallel-item::before {content: \"\";position: absolute;border-left: 1px solid gray;box-sizing: border-box;top: 0;bottom: 0;left: 50%;z-index: -1;}#sk-container-id-10 div.sk-parallel-item {display: flex;flex-direction: column;z-index: 1;position: relative;background-color: white;}#sk-container-id-10 div.sk-parallel-item:first-child::after {align-self: flex-end;width: 50%;}#sk-container-id-10 div.sk-parallel-item:last-child::after {align-self: flex-start;width: 50%;}#sk-container-id-10 div.sk-parallel-item:only-child::after {width: 0;}#sk-container-id-10 div.sk-dashed-wrapped {border: 1px dashed gray;margin: 0 0.4em 0.5em 0.4em;box-sizing: border-box;padding-bottom: 0.4em;background-color: white;}#sk-container-id-10 div.sk-label label {font-family: monospace;font-weight: bold;display: inline-block;line-height: 1.2em;}#sk-container-id-10 div.sk-label-container {text-align: center;}#sk-container-id-10 div.sk-container {/* jupyter's `normalize.less` sets `[hidden] { display: none; }` but bootstrap.min.css set `[hidden] { display: none !important; }` so we also need the `!important` here to be able to override the default hidden behavior on the sphinx rendered scikit-learn.org. See: https://github.com/scikit-learn/scikit-learn/issues/21755 */display: inline-block !important;position: relative;}#sk-container-id-10 div.sk-text-repr-fallback {display: none;}</style><div id=\"sk-container-id-10\" class=\"sk-top-container\"><div class=\"sk-text-repr-fallback\"><pre>RandomForestClassifier(max_depth=42, max_leaf_nodes=38, min_samples_leaf=30,\n",
              "                       n_estimators=152)</pre><b>In a Jupyter environment, please rerun this cell to show the HTML representation or trust the notebook. <br />On GitHub, the HTML representation is unable to render, please try loading this page with nbviewer.org.</b></div><div class=\"sk-container\" hidden><div class=\"sk-item\"><div class=\"sk-estimator sk-toggleable\"><input class=\"sk-toggleable__control sk-hidden--visually\" id=\"sk-estimator-id-10\" type=\"checkbox\" checked><label for=\"sk-estimator-id-10\" class=\"sk-toggleable__label sk-toggleable__label-arrow\">RandomForestClassifier</label><div class=\"sk-toggleable__content\"><pre>RandomForestClassifier(max_depth=42, max_leaf_nodes=38, min_samples_leaf=30,\n",
              "                       n_estimators=152)</pre></div></div></div></div></div>"
            ]
          },
          "metadata": {},
          "execution_count": 47
        }
      ],
      "source": [
        "\n",
        "# рандом форест\n",
        "r_f = RandomForestClassifier (n_estimators=152, max_depth=42, min_samples_leaf=30, max_leaf_nodes=38)\n",
        "\n",
        "r_f.fit (data_train, target_train.values.ravel())"
      ]
    },
    {
      "cell_type": "code",
      "source": [
        "target_pred = r_f.predict_proba(data_train)[:,1]\n",
        "fpr, tpr, treshold = metrics.roc_curve(target_train, target_pred)\n",
        "auc = metrics.roc_auc_score(target_train, target_pred)\n",
        "plt.plot(fpr, tpr, label=\"RandomForestClassifier = \" + str(auc))\n",
        "\n",
        "plt.ylabel ('True True')\n",
        "plt.xlabel ('False True')\n",
        "\n",
        "plt.legend (loc=4)\n",
        "plt.plot ([0, 1], [0, 1], color='navy', linestyle=\"--\")\n",
        "\n",
        "# лог регрессия\n",
        "target_pred = log_reg.predict_proba(data_train)[:,1]\n",
        "fpr, tpr, treshold = metrics.roc_curve(target_train, target_pred)\n",
        "auc = metrics.roc_auc_score(target_train, target_pred)\n",
        "plt.plot(fpr, tpr, label=\"Logistic Regression = \" + str(auc))\n",
        "\n",
        "plt.show ()"
      ],
      "metadata": {
        "colab": {
          "base_uri": "https://localhost:8080/",
          "height": 449
        },
        "id": "6XZpR3B_Xwwf",
        "outputId": "aa02cbda-0ec6-401a-fe00-ae56c078f996"
      },
      "id": "6XZpR3B_Xwwf",
      "execution_count": 48,
      "outputs": [
        {
          "output_type": "display_data",
          "data": {
            "text/plain": [
              "<Figure size 640x480 with 1 Axes>"
            ],
            "image/png": "[encoded data removed]"
          },
          "metadata": {}
        }
      ]
    }
  ],
  "metadata": {
    "kernelspec": {
      "display_name": "Python 3 (ipykernel)",
      "language": "python",
      "name": "python3"
    },
    "language_info": {
      "codemirror_mode": {
        "name": "ipython",
        "version": 3
      },
      "file_extension": ".py",
      "mimetype": "text/x-python",
      "name": "python",
      "nbconvert_exporter": "python",
      "pygments_lexer": "ipython3",
      "version": "3.10.12"
    },
    "colab": {
      "provenance": []
    }
  },
  "nbformat": 4,
  "nbformat_minor": 5
}