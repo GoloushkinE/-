{
  "nbformat": 4,
  "nbformat_minor": 0,
  "metadata": {
    "colab": {
      "provenance": [],
      "toc_visible": true,
      "include_colab_link": true
    },
    "kernelspec": {
      "name": "python3",
      "display_name": "Python 3"
    },
    "language_info": {
      "name": "python"
    }
  },
  "cells": [
    {
      "cell_type": "markdown",
      "metadata": {
        "id": "view-in-github",
        "colab_type": "text"
      },
      "source": [
        "<a href=\"https://colab.research.google.com/github/GoloushkinE/-/blob/main/%D0%98%D0%BD%D1%82%D0%B5%D0%BD%D1%81%D0%B8%D0%B2_%E2%84%962_%E2%80%93_%D0%BF%D0%B0%D1%81%D1%81%D0%B0%D0%B6%D0%B8%D1%80%D0%BE%D0%BF%D0%BE%D1%82%D0%BE%D0%BA_%D0%B0%D1%8D%D1%80%D0%BE%D0%BF%D0%BE%D1%80%D1%82%D0%B0.ipynb\" target=\"_parent\"><img src=\"https://colab.research.google.com/assets/colab-badge.svg\" alt=\"Open In Colab\"/></a>"
      ]
    },
    {
      "cell_type": "code",
      "source": [
        "from google.colab import drive\n",
        "drive.mount ('/content/drive')"
      ],
      "metadata": {
        "colab": {
          "base_uri": "https://localhost:8080/"
        },
        "id": "JDYvAX29r555",
        "outputId": "59533788-af32-49c9-d304-a623fdbbcc95"
      },
      "execution_count": 69,
      "outputs": [
        {
          "output_type": "stream",
          "name": "stdout",
          "text": [
            "Drive already mounted at /content/drive; to attempt to forcibly remount, call drive.mount(\"/content/drive\", force_remount=True).\n"
          ]
        }
      ]
    },
    {
      "cell_type": "markdown",
      "source": [
        "## Загрузка данных (+ копирование)"
      ],
      "metadata": {
        "id": "4G-YzsOo1LUU"
      }
    },
    {
      "cell_type": "code",
      "source": [
        "import pandas as pd\n",
        "data = pd.read_excel('/content/drive/MyDrive/Интенсив 2.0/Урок 2/flights_data.xlsx')\n"
      ],
      "metadata": {
        "id": "0SKLuOr_qwQh"
      },
      "execution_count": 70,
      "outputs": []
    },
    {
      "cell_type": "code",
      "source": [
        "df = data.copy()"
      ],
      "metadata": {
        "id": "PYdOT-T8ra7q"
      },
      "execution_count": 71,
      "outputs": []
    },
    {
      "cell_type": "markdown",
      "source": [
        "## Изучение и предобработка данных\n",
        "- head()\n",
        "- shape\n",
        "- df.info() + задействуем ИИ\n",
        "- преобразование типов\n",
        "- пропуски\n",
        "- дубли"
      ],
      "metadata": {
        "id": "vM8ms2-63GuB"
      }
    },
    {
      "cell_type": "code",
      "source": [
        "df.head()"
      ],
      "metadata": {
        "colab": {
          "base_uri": "https://localhost:8080/",
          "height": 310
        },
        "id": "VFj9Pwtar2tY",
        "outputId": "7d2a9ef1-9aad-4c53-dbbf-ceb277ae506a"
      },
      "execution_count": 72,
      "outputs": [
        {
          "output_type": "execute_result",
          "data": {
            "text/plain": [
              "  Номер рейса   Авиакомпания    Модель самолёта    Страна Дата прибытия  \\\n",
              "0       DA451       WorldAir  Bombardier CRJ900      Перу    2025-01-15   \n",
              "1       LX444      AirTravel          Boeing777       США    2025-02-07   \n",
              "2       UH780  TravelCompany         Boeing 737    Турция    2025-01-04   \n",
              "3       LN052      FlyGlobal        Airbus A320  Германия    2025-01-04   \n",
              "4       OK353      FlyGlobal          Boeing447   Мексика    2025-01-18   \n",
              "\n",
              "   Имя пассажира     Тип багажа      Цель поездки  \\\n",
              "0     Leon Lopez  Чёрный рюкзак             Учёба   \n",
              "1   Robert Brown    Серая сумка  Посещение друзей   \n",
              "2   Robert Adams  Красная сумка             Учёба   \n",
              "3  Olivia Miller  Красная сумка           Транзит   \n",
              "4      Zoe Kerim    Серая сумка  Посещение друзей   \n",
              "\n",
              "   Кол-во дней остановки в стране  \n",
              "0                              14  \n",
              "1                               5  \n",
              "2                              16  \n",
              "3                              30  \n",
              "4                               9  "
            ],
            "text/html": [
              "\n",
              "  <div id=\"df-d8129c81-6589-4c32-950e-64f05eb37dc2\" class=\"colab-df-container\">\n",
              "    <div>\n",
              "<style scoped>\n",
              "    .dataframe tbody tr th:only-of-type {\n",
              "        vertical-align: middle;\n",
              "    }\n",
              "\n",
              "    .dataframe tbody tr th {\n",
              "        vertical-align: top;\n",
              "    }\n",
              "\n",
              "    .dataframe thead th {\n",
              "        text-align: right;\n",
              "    }\n",
              "</style>\n",
              "<table border=\"1\" class=\"dataframe\">\n",
              "  <thead>\n",
              "    <tr style=\"text-align: right;\">\n",
              "      <th></th>\n",
              "      <th>Номер рейса</th>\n",
              "      <th>Авиакомпания</th>\n",
              "      <th>Модель самолёта</th>\n",
              "      <th>Страна</th>\n",
              "      <th>Дата прибытия</th>\n",
              "      <th>Имя пассажира</th>\n",
              "      <th>Тип багажа</th>\n",
              "      <th>Цель поездки</th>\n",
              "      <th>Кол-во дней остановки в стране</th>\n",
              "    </tr>\n",
              "  </thead>\n",
              "  <tbody>\n",
              "    <tr>\n",
              "      <th>0</th>\n",
              "      <td>DA451</td>\n",
              "      <td>WorldAir</td>\n",
              "      <td>Bombardier CRJ900</td>\n",
              "      <td>Перу</td>\n",
              "      <td>2025-01-15</td>\n",
              "      <td>Leon Lopez</td>\n",
              "      <td>Чёрный рюкзак</td>\n",
              "      <td>Учёба</td>\n",
              "      <td>14</td>\n",
              "    </tr>\n",
              "    <tr>\n",
              "      <th>1</th>\n",
              "      <td>LX444</td>\n",
              "      <td>AirTravel</td>\n",
              "      <td>Boeing777</td>\n",
              "      <td>США</td>\n",
              "      <td>2025-02-07</td>\n",
              "      <td>Robert Brown</td>\n",
              "      <td>Серая сумка</td>\n",
              "      <td>Посещение друзей</td>\n",
              "      <td>5</td>\n",
              "    </tr>\n",
              "    <tr>\n",
              "      <th>2</th>\n",
              "      <td>UH780</td>\n",
              "      <td>TravelCompany</td>\n",
              "      <td>Boeing 737</td>\n",
              "      <td>Турция</td>\n",
              "      <td>2025-01-04</td>\n",
              "      <td>Robert Adams</td>\n",
              "      <td>Красная сумка</td>\n",
              "      <td>Учёба</td>\n",
              "      <td>16</td>\n",
              "    </tr>\n",
              "    <tr>\n",
              "      <th>3</th>\n",
              "      <td>LN052</td>\n",
              "      <td>FlyGlobal</td>\n",
              "      <td>Airbus A320</td>\n",
              "      <td>Германия</td>\n",
              "      <td>2025-01-04</td>\n",
              "      <td>Olivia Miller</td>\n",
              "      <td>Красная сумка</td>\n",
              "      <td>Транзит</td>\n",
              "      <td>30</td>\n",
              "    </tr>\n",
              "    <tr>\n",
              "      <th>4</th>\n",
              "      <td>OK353</td>\n",
              "      <td>FlyGlobal</td>\n",
              "      <td>Boeing447</td>\n",
              "      <td>Мексика</td>\n",
              "      <td>2025-01-18</td>\n",
              "      <td>Zoe Kerim</td>\n",
              "      <td>Серая сумка</td>\n",
              "      <td>Посещение друзей</td>\n",
              "      <td>9</td>\n",
              "    </tr>\n",
              "  </tbody>\n",
              "</table>\n",
              "</div>\n",
              "    <div class=\"colab-df-buttons\">\n",
              "\n",
              "  <div class=\"colab-df-container\">\n",
              "    <button class=\"colab-df-convert\" onclick=\"convertToInteractive('df-d8129c81-6589-4c32-950e-64f05eb37dc2')\"\n",
              "            title=\"Convert this dataframe to an interactive table.\"\n",
              "            style=\"display:none;\">\n",
              "\n",
              "  <svg xmlns=\"http://www.w3.org/2000/svg\" height=\"24px\" viewBox=\"0 -960 960 960\">\n",
              "    <path d=\"M120-120v-720h720v720H120Zm60-500h600v-160H180v160Zm220 220h160v-160H400v160Zm0 220h160v-160H400v160ZM180-400h160v-160H180v160Zm440 0h160v-160H620v160ZM180-180h160v-160H180v160Zm440 0h160v-160H620v160Z\"/>\n",
              "  </svg>\n",
              "    </button>\n",
              "\n",
              "  <style>\n",
              "    .colab-df-container {\n",
              "      display:flex;\n",
              "      gap: 12px;\n",
              "    }\n",
              "\n",
              "    .colab-df-convert {\n",
              "      background-color: #E8F0FE;\n",
              "      border: none;\n",
              "      border-radius: 50%;\n",
              "      cursor: pointer;\n",
              "      display: none;\n",
              "      fill: #1967D2;\n",
              "      height: 32px;\n",
              "      padding: 0 0 0 0;\n",
              "      width: 32px;\n",
              "    }\n",
              "\n",
              "    .colab-df-convert:hover {\n",
              "      background-color: #E2EBFA;\n",
              "      box-shadow: 0px 1px 2px rgba(60, 64, 67, 0.3), 0px 1px 3px 1px rgba(60, 64, 67, 0.15);\n",
              "      fill: #174EA6;\n",
              "    }\n",
              "\n",
              "    .colab-df-buttons div {\n",
              "      margin-bottom: 4px;\n",
              "    }\n",
              "\n",
              "    [theme=dark] .colab-df-convert {\n",
              "      background-color: #3B4455;\n",
              "      fill: #D2E3FC;\n",
              "    }\n",
              "\n",
              "    [theme=dark] .colab-df-convert:hover {\n",
              "      background-color: #434B5C;\n",
              "      box-shadow: 0px 1px 3px 1px rgba(0, 0, 0, 0.15);\n",
              "      filter: drop-shadow(0px 1px 2px rgba(0, 0, 0, 0.3));\n",
              "      fill: #FFFFFF;\n",
              "    }\n",
              "  </style>\n",
              "\n",
              "    <script>\n",
              "      const buttonEl =\n",
              "        document.querySelector('#df-d8129c81-6589-4c32-950e-64f05eb37dc2 button.colab-df-convert');\n",
              "      buttonEl.style.display =\n",
              "        google.colab.kernel.accessAllowed ? 'block' : 'none';\n",
              "\n",
              "      async function convertToInteractive(key) {\n",
              "        const element = document.querySelector('#df-d8129c81-6589-4c32-950e-64f05eb37dc2');\n",
              "        const dataTable =\n",
              "          await google.colab.kernel.invokeFunction('convertToInteractive',\n",
              "                                                    [key], {});\n",
              "        if (!dataTable) return;\n",
              "\n",
              "        const docLinkHtml = 'Like what you see? Visit the ' +\n",
              "          '<a target=\"_blank\" href=https://colab.research.google.com/notebooks/data_table.ipynb>data table notebook</a>'\n",
              "          + ' to learn more about interactive tables.';\n",
              "        element.innerHTML = '';\n",
              "        dataTable['output_type'] = 'display_data';\n",
              "        await google.colab.output.renderOutput(dataTable, element);\n",
              "        const docLink = document.createElement('div');\n",
              "        docLink.innerHTML = docLinkHtml;\n",
              "        element.appendChild(docLink);\n",
              "      }\n",
              "    </script>\n",
              "  </div>\n",
              "\n",
              "\n",
              "<div id=\"df-8514bd9a-d89a-46d7-9f7e-773eef7bd2d7\">\n",
              "  <button class=\"colab-df-quickchart\" onclick=\"quickchart('df-8514bd9a-d89a-46d7-9f7e-773eef7bd2d7')\"\n",
              "            title=\"Suggest charts\"\n",
              "            style=\"display:none;\">\n",
              "\n",
              "<svg xmlns=\"http://www.w3.org/2000/svg\" height=\"24px\"viewBox=\"0 0 24 24\"\n",
              "     width=\"24px\">\n",
              "    <g>\n",
              "        <path d=\"M19 3H5c-1.1 0-2 .9-2 2v14c0 1.1.9 2 2 2h14c1.1 0 2-.9 2-2V5c0-1.1-.9-2-2-2zM9 17H7v-7h2v7zm4 0h-2V7h2v10zm4 0h-2v-4h2v4z\"/>\n",
              "    </g>\n",
              "</svg>\n",
              "  </button>\n",
              "\n",
              "<style>\n",
              "  .colab-df-quickchart {\n",
              "      --bg-color: #E8F0FE;\n",
              "      --fill-color: #1967D2;\n",
              "      --hover-bg-color: #E2EBFA;\n",
              "      --hover-fill-color: #174EA6;\n",
              "      --disabled-fill-color: #AAA;\n",
              "      --disabled-bg-color: #DDD;\n",
              "  }\n",
              "\n",
              "  [theme=dark] .colab-df-quickchart {\n",
              "      --bg-color: #3B4455;\n",
              "      --fill-color: #D2E3FC;\n",
              "      --hover-bg-color: #434B5C;\n",
              "      --hover-fill-color: #FFFFFF;\n",
              "      --disabled-bg-color: #3B4455;\n",
              "      --disabled-fill-color: #666;\n",
              "  }\n",
              "\n",
              "  .colab-df-quickchart {\n",
              "    background-color: var(--bg-color);\n",
              "    border: none;\n",
              "    border-radius: 50%;\n",
              "    cursor: pointer;\n",
              "    display: none;\n",
              "    fill: var(--fill-color);\n",
              "    height: 32px;\n",
              "    padding: 0;\n",
              "    width: 32px;\n",
              "  }\n",
              "\n",
              "  .colab-df-quickchart:hover {\n",
              "    background-color: var(--hover-bg-color);\n",
              "    box-shadow: 0 1px 2px rgba(60, 64, 67, 0.3), 0 1px 3px 1px rgba(60, 64, 67, 0.15);\n",
              "    fill: var(--button-hover-fill-color);\n",
              "  }\n",
              "\n",
              "  .colab-df-quickchart-complete:disabled,\n",
              "  .colab-df-quickchart-complete:disabled:hover {\n",
              "    background-color: var(--disabled-bg-color);\n",
              "    fill: var(--disabled-fill-color);\n",
              "    box-shadow: none;\n",
              "  }\n",
              "\n",
              "  .colab-df-spinner {\n",
              "    border: 2px solid var(--fill-color);\n",
              "    border-color: transparent;\n",
              "    border-bottom-color: var(--fill-color);\n",
              "    animation:\n",
              "      spin 1s steps(1) infinite;\n",
              "  }\n",
              "\n",
              "  @keyframes spin {\n",
              "    0% {\n",
              "      border-color: transparent;\n",
              "      border-bottom-color: var(--fill-color);\n",
              "      border-left-color: var(--fill-color);\n",
              "    }\n",
              "    20% {\n",
              "      border-color: transparent;\n",
              "      border-left-color: var(--fill-color);\n",
              "      border-top-color: var(--fill-color);\n",
              "    }\n",
              "    30% {\n",
              "      border-color: transparent;\n",
              "      border-left-color: var(--fill-color);\n",
              "      border-top-color: var(--fill-color);\n",
              "      border-right-color: var(--fill-color);\n",
              "    }\n",
              "    40% {\n",
              "      border-color: transparent;\n",
              "      border-right-color: var(--fill-color);\n",
              "      border-top-color: var(--fill-color);\n",
              "    }\n",
              "    60% {\n",
              "      border-color: transparent;\n",
              "      border-right-color: var(--fill-color);\n",
              "    }\n",
              "    80% {\n",
              "      border-color: transparent;\n",
              "      border-right-color: var(--fill-color);\n",
              "      border-bottom-color: var(--fill-color);\n",
              "    }\n",
              "    90% {\n",
              "      border-color: transparent;\n",
              "      border-bottom-color: var(--fill-color);\n",
              "    }\n",
              "  }\n",
              "</style>\n",
              "\n",
              "  <script>\n",
              "    async function quickchart(key) {\n",
              "      const quickchartButtonEl =\n",
              "        document.querySelector('#' + key + ' button');\n",
              "      quickchartButtonEl.disabled = true;  // To prevent multiple clicks.\n",
              "      quickchartButtonEl.classList.add('colab-df-spinner');\n",
              "      try {\n",
              "        const charts = await google.colab.kernel.invokeFunction(\n",
              "            'suggestCharts', [key], {});\n",
              "      } catch (error) {\n",
              "        console.error('Error during call to suggestCharts:', error);\n",
              "      }\n",
              "      quickchartButtonEl.classList.remove('colab-df-spinner');\n",
              "      quickchartButtonEl.classList.add('colab-df-quickchart-complete');\n",
              "    }\n",
              "    (() => {\n",
              "      let quickchartButtonEl =\n",
              "        document.querySelector('#df-8514bd9a-d89a-46d7-9f7e-773eef7bd2d7 button');\n",
              "      quickchartButtonEl.style.display =\n",
              "        google.colab.kernel.accessAllowed ? 'block' : 'none';\n",
              "    })();\n",
              "  </script>\n",
              "</div>\n",
              "    </div>\n",
              "  </div>\n"
            ],
            "application/vnd.google.colaboratory.intrinsic+json": {
              "type": "dataframe",
              "variable_name": "df",
              "summary": "{\n  \"name\": \"df\",\n  \"rows\": 4732,\n  \"fields\": [\n    {\n      \"column\": \"\\u041d\\u043e\\u043c\\u0435\\u0440 \\u0440\\u0435\\u0439\\u0441\\u0430\",\n      \"properties\": {\n        \"dtype\": \"category\",\n        \"num_unique_values\": 100,\n        \"samples\": [\n          \"SZ953\",\n          \"CA835\",\n          \"OO851\"\n        ],\n        \"semantic_type\": \"\",\n        \"description\": \"\"\n      }\n    },\n    {\n      \"column\": \"\\u0410\\u0432\\u0438\\u0430\\u043a\\u043e\\u043c\\u043f\\u0430\\u043d\\u0438\\u044f\",\n      \"properties\": {\n        \"dtype\": \"category\",\n        \"num_unique_values\": 10,\n        \"samples\": [\n          \"StarLine\",\n          \"AirTravel\",\n          \"AeroWorld\"\n        ],\n        \"semantic_type\": \"\",\n        \"description\": \"\"\n      }\n    },\n    {\n      \"column\": \"\\u041c\\u043e\\u0434\\u0435\\u043b\\u044c \\u0441\\u0430\\u043c\\u043e\\u043b\\u0451\\u0442\\u0430\",\n      \"properties\": {\n        \"dtype\": \"category\",\n        \"num_unique_values\": 9,\n        \"samples\": [\n          \"Embraer E190\",\n          \"Boeing777\",\n          \"Airbus A330\"\n        ],\n        \"semantic_type\": \"\",\n        \"description\": \"\"\n      }\n    },\n    {\n      \"column\": \"\\u0421\\u0442\\u0440\\u0430\\u043d\\u0430\",\n      \"properties\": {\n        \"dtype\": \"category\",\n        \"num_unique_values\": 20,\n        \"samples\": [\n          \"\\u041f\\u0435\\u0440\\u0443\",\n          \"\\u0418\\u043d\\u0434\\u0438\\u044f\",\n          \"\\u0418\\u0442\\u0430\\u043b\\u0438\\u044f\"\n        ],\n        \"semantic_type\": \"\",\n        \"description\": \"\"\n      }\n    },\n    {\n      \"column\": \"\\u0414\\u0430\\u0442\\u0430 \\u043f\\u0440\\u0438\\u0431\\u044b\\u0442\\u0438\\u044f\",\n      \"properties\": {\n        \"dtype\": \"date\",\n        \"min\": \"2025-01-01 00:00:00\",\n        \"max\": \"2025-02-28 00:00:00\",\n        \"num_unique_values\": 57,\n        \"samples\": [\n          \"2025-01-15 00:00:00\",\n          \"2025-01-08 00:00:00\",\n          \"2025-02-04 00:00:00\"\n        ],\n        \"semantic_type\": \"\",\n        \"description\": \"\"\n      }\n    },\n    {\n      \"column\": \"\\u0418\\u043c\\u044f \\u043f\\u0430\\u0441\\u0441\\u0430\\u0436\\u0438\\u0440\\u0430\",\n      \"properties\": {\n        \"dtype\": \"category\",\n        \"num_unique_values\": 528,\n        \"samples\": [\n          \"Linda Moore\",\n          \"Sophie Wilson\",\n          \"Peter Brown\"\n        ],\n        \"semantic_type\": \"\",\n        \"description\": \"\"\n      }\n    },\n    {\n      \"column\": \"\\u0422\\u0438\\u043f \\u0431\\u0430\\u0433\\u0430\\u0436\\u0430\",\n      \"properties\": {\n        \"dtype\": \"category\",\n        \"num_unique_values\": 12,\n        \"samples\": [\n          \"\\u0421\\u0435\\u0440\\u0435\\u0431\\u0440\\u0438\\u0441\\u0442\\u044b\\u0439 \\u0434\\u0438\\u043f\\u043b\\u043e\\u043c\\u0430\\u0442\",\n          \"\\u0417\\u0435\\u043b\\u0451\\u043d\\u0430\\u044f \\u0441\\u0443\\u043c\\u043a\\u0430\",\n          \"\\u0427\\u0451\\u0440\\u043d\\u044b\\u0439 \\u0440\\u044e\\u043a\\u0437\\u0430\\u043a\"\n        ],\n        \"semantic_type\": \"\",\n        \"description\": \"\"\n      }\n    },\n    {\n      \"column\": \"\\u0426\\u0435\\u043b\\u044c \\u043f\\u043e\\u0435\\u0437\\u0434\\u043a\\u0438\",\n      \"properties\": {\n        \"dtype\": \"category\",\n        \"num_unique_values\": 5,\n        \"samples\": [\n          \"\\u041f\\u043e\\u0441\\u0435\\u0449\\u0435\\u043d\\u0438\\u0435 \\u0434\\u0440\\u0443\\u0437\\u0435\\u0439\",\n          \"\\u041e\\u0442\\u0434\\u044b\\u0445\",\n          \"\\u0422\\u0440\\u0430\\u043d\\u0437\\u0438\\u0442\"\n        ],\n        \"semantic_type\": \"\",\n        \"description\": \"\"\n      }\n    },\n    {\n      \"column\": \"\\u041a\\u043e\\u043b-\\u0432\\u043e \\u0434\\u043d\\u0435\\u0439 \\u043e\\u0441\\u0442\\u0430\\u043d\\u043e\\u0432\\u043a\\u0438 \\u0432 \\u0441\\u0442\\u0440\\u0430\\u043d\\u0435\",\n      \"properties\": {\n        \"dtype\": \"number\",\n        \"std\": 25,\n        \"min\": 1,\n        \"max\": 90,\n        \"num_unique_values\": 90,\n        \"samples\": [\n          28,\n          18,\n          23\n        ],\n        \"semantic_type\": \"\",\n        \"description\": \"\"\n      }\n    }\n  ]\n}"
            }
          },
          "metadata": {},
          "execution_count": 72
        }
      ]
    },
    {
      "cell_type": "code",
      "source": [
        "df.shape"
      ],
      "metadata": {
        "colab": {
          "base_uri": "https://localhost:8080/"
        },
        "id": "v8gRN_M0sVag",
        "outputId": "ed1b4e87-2e33-4b1a-e225-4a6ca3b506fe"
      },
      "execution_count": 73,
      "outputs": [
        {
          "output_type": "execute_result",
          "data": {
            "text/plain": [
              "(4732, 9)"
            ]
          },
          "metadata": {},
          "execution_count": 73
        }
      ]
    },
    {
      "cell_type": "code",
      "source": [
        "df.info()"
      ],
      "metadata": {
        "colab": {
          "base_uri": "https://localhost:8080/"
        },
        "id": "8k4pCZ2PskuR",
        "outputId": "eccc3231-1c4a-410b-beb7-c35135999528"
      },
      "execution_count": 74,
      "outputs": [
        {
          "output_type": "stream",
          "name": "stdout",
          "text": [
            "<class 'pandas.core.frame.DataFrame'>\n",
            "RangeIndex: 4732 entries, 0 to 4731\n",
            "Data columns (total 9 columns):\n",
            " #   Column                          Non-Null Count  Dtype         \n",
            "---  ------                          --------------  -----         \n",
            " 0   Номер рейса                     4732 non-null   object        \n",
            " 1   Авиакомпания                    4732 non-null   object        \n",
            " 2   Модель самолёта                 4732 non-null   object        \n",
            " 3   Страна                          4732 non-null   object        \n",
            " 4   Дата прибытия                   4732 non-null   datetime64[ns]\n",
            " 5   Имя пассажира                   4732 non-null   object        \n",
            " 6   Тип багажа                      4732 non-null   object        \n",
            " 7   Цель поездки                    4732 non-null   object        \n",
            " 8   Кол-во дней остановки в стране  4732 non-null   int64         \n",
            "dtypes: datetime64[ns](1), int64(1), object(7)\n",
            "memory usage: 332.8+ KB\n"
          ]
        }
      ]
    },
    {
      "cell_type": "code",
      "source": [
        "# Поиск дубликатов по всем столбцам\n",
        "duplicates = df[df.duplicated()]\n",
        "\n",
        "# Вывод дубликатов (опционально)\n",
        "print(\"Найдены следующие дубликаты:\")\n",
        "print(duplicates)"
      ],
      "metadata": {
        "colab": {
          "base_uri": "https://localhost:8080/"
        },
        "id": "sl0XZ4nTt_5I",
        "outputId": "d123a785-abd2-4101-c372-1319a43ef612",
        "collapsed": true
      },
      "execution_count": 75,
      "outputs": [
        {
          "output_type": "stream",
          "name": "stdout",
          "text": [
            "Найдены следующие дубликаты:\n",
            "     Номер рейса Авиакомпания Модель самолёта     Страна Дата прибытия  \\\n",
            "2573       YK037    AeroWorld       Boeing777     Турция    2025-02-01   \n",
            "3844       AB079      FastJet     Airbus A321  Австралия    2025-02-04   \n",
            "3845       AB079      FastJet     Airbus A321  Австралия    2025-02-04   \n",
            "3846       AB079      FastJet     Airbus A321  Австралия    2025-02-04   \n",
            "3847       AB079      FastJet     Airbus A321  Австралия    2025-02-04   \n",
            "\n",
            "      Имя пассажира          Тип багажа      Цель поездки  \\\n",
            "2573   Novak Garcia       Белый чемодан  Посещение друзей   \n",
            "3844   Linda Thomas        Чёрная сумка  Посещение друзей   \n",
            "3845  Robert Walker       Чёрный рюкзак            Работа   \n",
            "3846        Eva Lee        Чёрная сумка           Транзит   \n",
            "3847    Malu Taylor  Коричневый чемодан            Работа   \n",
            "\n",
            "      Кол-во дней остановки в стране  \n",
            "2573                              50  \n",
            "3844                              42  \n",
            "3845                              14  \n",
            "3846                              59  \n",
            "3847                              32  \n"
          ]
        }
      ]
    },
    {
      "cell_type": "code",
      "source": [
        "# Удаление дубликатов\n",
        "df = df.drop_duplicates()"
      ],
      "metadata": {
        "id": "Bew2M9CNuc_h"
      },
      "execution_count": 76,
      "outputs": []
    },
    {
      "cell_type": "code",
      "source": [
        "duplicate_count = df.duplicated().sum()\n",
        "print(f'Количество дубликатов: {duplicate_count}')"
      ],
      "metadata": {
        "colab": {
          "base_uri": "https://localhost:8080/"
        },
        "id": "2nk5wuWRv_rn",
        "outputId": "7a09f919-c5f4-4ebf-915e-2ce14d3e8ad1"
      },
      "execution_count": 77,
      "outputs": [
        {
          "output_type": "stream",
          "name": "stdout",
          "text": [
            "Количество дубликатов: 0\n"
          ]
        }
      ]
    },
    {
      "cell_type": "code",
      "source": [
        "df.isna()"
      ],
      "metadata": {
        "colab": {
          "base_uri": "https://localhost:8080/",
          "height": 441
        },
        "collapsed": true,
        "id": "gQE4szcnu2H4",
        "outputId": "b7e73b31-30f5-4159-d493-f4f20b42ffb4"
      },
      "execution_count": 78,
      "outputs": [
        {
          "output_type": "execute_result",
          "data": {
            "text/plain": [
              "      Номер рейса  Авиакомпания  Модель самолёта  Страна  Дата прибытия  \\\n",
              "0           False         False            False   False          False   \n",
              "1           False         False            False   False          False   \n",
              "2           False         False            False   False          False   \n",
              "3           False         False            False   False          False   \n",
              "4           False         False            False   False          False   \n",
              "...           ...           ...              ...     ...            ...   \n",
              "4727        False         False            False   False          False   \n",
              "4728        False         False            False   False          False   \n",
              "4729        False         False            False   False          False   \n",
              "4730        False         False            False   False          False   \n",
              "4731        False         False            False   False          False   \n",
              "\n",
              "      Имя пассажира  Тип багажа  Цель поездки  Кол-во дней остановки в стране  \n",
              "0             False       False         False                           False  \n",
              "1             False       False         False                           False  \n",
              "2             False       False         False                           False  \n",
              "3             False       False         False                           False  \n",
              "4             False       False         False                           False  \n",
              "...             ...         ...           ...                             ...  \n",
              "4727          False       False         False                           False  \n",
              "4728          False       False         False                           False  \n",
              "4729          False       False         False                           False  \n",
              "4730          False       False         False                           False  \n",
              "4731          False       False         False                           False  \n",
              "\n",
              "[4727 rows x 9 columns]"
            ],
            "text/html": [
              "\n",
              "  <div id=\"df-83ab8829-7dd6-4ba7-affc-064fa9072c3f\" class=\"colab-df-container\">\n",
              "    <div>\n",
              "<style scoped>\n",
              "    .dataframe tbody tr th:only-of-type {\n",
              "        vertical-align: middle;\n",
              "    }\n",
              "\n",
              "    .dataframe tbody tr th {\n",
              "        vertical-align: top;\n",
              "    }\n",
              "\n",
              "    .dataframe thead th {\n",
              "        text-align: right;\n",
              "    }\n",
              "</style>\n",
              "<table border=\"1\" class=\"dataframe\">\n",
              "  <thead>\n",
              "    <tr style=\"text-align: right;\">\n",
              "      <th></th>\n",
              "      <th>Номер рейса</th>\n",
              "      <th>Авиакомпания</th>\n",
              "      <th>Модель самолёта</th>\n",
              "      <th>Страна</th>\n",
              "      <th>Дата прибытия</th>\n",
              "      <th>Имя пассажира</th>\n",
              "      <th>Тип багажа</th>\n",
              "      <th>Цель поездки</th>\n",
              "      <th>Кол-во дней остановки в стране</th>\n",
              "    </tr>\n",
              "  </thead>\n",
              "  <tbody>\n",
              "    <tr>\n",
              "      <th>0</th>\n",
              "      <td>False</td>\n",
              "      <td>False</td>\n",
              "      <td>False</td>\n",
              "      <td>False</td>\n",
              "      <td>False</td>\n",
              "      <td>False</td>\n",
              "      <td>False</td>\n",
              "      <td>False</td>\n",
              "      <td>False</td>\n",
              "    </tr>\n",
              "    <tr>\n",
              "      <th>1</th>\n",
              "      <td>False</td>\n",
              "      <td>False</td>\n",
              "      <td>False</td>\n",
              "      <td>False</td>\n",
              "      <td>False</td>\n",
              "      <td>False</td>\n",
              "      <td>False</td>\n",
              "      <td>False</td>\n",
              "      <td>False</td>\n",
              "    </tr>\n",
              "    <tr>\n",
              "      <th>2</th>\n",
              "      <td>False</td>\n",
              "      <td>False</td>\n",
              "      <td>False</td>\n",
              "      <td>False</td>\n",
              "      <td>False</td>\n",
              "      <td>False</td>\n",
              "      <td>False</td>\n",
              "      <td>False</td>\n",
              "      <td>False</td>\n",
              "    </tr>\n",
              "    <tr>\n",
              "      <th>3</th>\n",
              "      <td>False</td>\n",
              "      <td>False</td>\n",
              "      <td>False</td>\n",
              "      <td>False</td>\n",
              "      <td>False</td>\n",
              "      <td>False</td>\n",
              "      <td>False</td>\n",
              "      <td>False</td>\n",
              "      <td>False</td>\n",
              "    </tr>\n",
              "    <tr>\n",
              "      <th>4</th>\n",
              "      <td>False</td>\n",
              "      <td>False</td>\n",
              "      <td>False</td>\n",
              "      <td>False</td>\n",
              "      <td>False</td>\n",
              "      <td>False</td>\n",
              "      <td>False</td>\n",
              "      <td>False</td>\n",
              "      <td>False</td>\n",
              "    </tr>\n",
              "    <tr>\n",
              "      <th>...</th>\n",
              "      <td>...</td>\n",
              "      <td>...</td>\n",
              "      <td>...</td>\n",
              "      <td>...</td>\n",
              "      <td>...</td>\n",
              "      <td>...</td>\n",
              "      <td>...</td>\n",
              "      <td>...</td>\n",
              "      <td>...</td>\n",
              "    </tr>\n",
              "    <tr>\n",
              "      <th>4727</th>\n",
              "      <td>False</td>\n",
              "      <td>False</td>\n",
              "      <td>False</td>\n",
              "      <td>False</td>\n",
              "      <td>False</td>\n",
              "      <td>False</td>\n",
              "      <td>False</td>\n",
              "      <td>False</td>\n",
              "      <td>False</td>\n",
              "    </tr>\n",
              "    <tr>\n",
              "      <th>4728</th>\n",
              "      <td>False</td>\n",
              "      <td>False</td>\n",
              "      <td>False</td>\n",
              "      <td>False</td>\n",
              "      <td>False</td>\n",
              "      <td>False</td>\n",
              "      <td>False</td>\n",
              "      <td>False</td>\n",
              "      <td>False</td>\n",
              "    </tr>\n",
              "    <tr>\n",
              "      <th>4729</th>\n",
              "      <td>False</td>\n",
              "      <td>False</td>\n",
              "      <td>False</td>\n",
              "      <td>False</td>\n",
              "      <td>False</td>\n",
              "      <td>False</td>\n",
              "      <td>False</td>\n",
              "      <td>False</td>\n",
              "      <td>False</td>\n",
              "    </tr>\n",
              "    <tr>\n",
              "      <th>4730</th>\n",
              "      <td>False</td>\n",
              "      <td>False</td>\n",
              "      <td>False</td>\n",
              "      <td>False</td>\n",
              "      <td>False</td>\n",
              "      <td>False</td>\n",
              "      <td>False</td>\n",
              "      <td>False</td>\n",
              "      <td>False</td>\n",
              "    </tr>\n",
              "    <tr>\n",
              "      <th>4731</th>\n",
              "      <td>False</td>\n",
              "      <td>False</td>\n",
              "      <td>False</td>\n",
              "      <td>False</td>\n",
              "      <td>False</td>\n",
              "      <td>False</td>\n",
              "      <td>False</td>\n",
              "      <td>False</td>\n",
              "      <td>False</td>\n",
              "    </tr>\n",
              "  </tbody>\n",
              "</table>\n",
              "<p>4727 rows × 9 columns</p>\n",
              "</div>\n",
              "    <div class=\"colab-df-buttons\">\n",
              "\n",
              "  <div class=\"colab-df-container\">\n",
              "    <button class=\"colab-df-convert\" onclick=\"convertToInteractive('df-83ab8829-7dd6-4ba7-affc-064fa9072c3f')\"\n",
              "            title=\"Convert this dataframe to an interactive table.\"\n",
              "            style=\"display:none;\">\n",
              "\n",
              "  <svg xmlns=\"http://www.w3.org/2000/svg\" height=\"24px\" viewBox=\"0 -960 960 960\">\n",
              "    <path d=\"M120-120v-720h720v720H120Zm60-500h600v-160H180v160Zm220 220h160v-160H400v160Zm0 220h160v-160H400v160ZM180-400h160v-160H180v160Zm440 0h160v-160H620v160ZM180-180h160v-160H180v160Zm440 0h160v-160H620v160Z\"/>\n",
              "  </svg>\n",
              "    </button>\n",
              "\n",
              "  <style>\n",
              "    .colab-df-container {\n",
              "      display:flex;\n",
              "      gap: 12px;\n",
              "    }\n",
              "\n",
              "    .colab-df-convert {\n",
              "      background-color: #E8F0FE;\n",
              "      border: none;\n",
              "      border-radius: 50%;\n",
              "      cursor: pointer;\n",
              "      display: none;\n",
              "      fill: #1967D2;\n",
              "      height: 32px;\n",
              "      padding: 0 0 0 0;\n",
              "      width: 32px;\n",
              "    }\n",
              "\n",
              "    .colab-df-convert:hover {\n",
              "      background-color: #E2EBFA;\n",
              "      box-shadow: 0px 1px 2px rgba(60, 64, 67, 0.3), 0px 1px 3px 1px rgba(60, 64, 67, 0.15);\n",
              "      fill: #174EA6;\n",
              "    }\n",
              "\n",
              "    .colab-df-buttons div {\n",
              "      margin-bottom: 4px;\n",
              "    }\n",
              "\n",
              "    [theme=dark] .colab-df-convert {\n",
              "      background-color: #3B4455;\n",
              "      fill: #D2E3FC;\n",
              "    }\n",
              "\n",
              "    [theme=dark] .colab-df-convert:hover {\n",
              "      background-color: #434B5C;\n",
              "      box-shadow: 0px 1px 3px 1px rgba(0, 0, 0, 0.15);\n",
              "      filter: drop-shadow(0px 1px 2px rgba(0, 0, 0, 0.3));\n",
              "      fill: #FFFFFF;\n",
              "    }\n",
              "  </style>\n",
              "\n",
              "    <script>\n",
              "      const buttonEl =\n",
              "        document.querySelector('#df-83ab8829-7dd6-4ba7-affc-064fa9072c3f button.colab-df-convert');\n",
              "      buttonEl.style.display =\n",
              "        google.colab.kernel.accessAllowed ? 'block' : 'none';\n",
              "\n",
              "      async function convertToInteractive(key) {\n",
              "        const element = document.querySelector('#df-83ab8829-7dd6-4ba7-affc-064fa9072c3f');\n",
              "        const dataTable =\n",
              "          await google.colab.kernel.invokeFunction('convertToInteractive',\n",
              "                                                    [key], {});\n",
              "        if (!dataTable) return;\n",
              "\n",
              "        const docLinkHtml = 'Like what you see? Visit the ' +\n",
              "          '<a target=\"_blank\" href=https://colab.research.google.com/notebooks/data_table.ipynb>data table notebook</a>'\n",
              "          + ' to learn more about interactive tables.';\n",
              "        element.innerHTML = '';\n",
              "        dataTable['output_type'] = 'display_data';\n",
              "        await google.colab.output.renderOutput(dataTable, element);\n",
              "        const docLink = document.createElement('div');\n",
              "        docLink.innerHTML = docLinkHtml;\n",
              "        element.appendChild(docLink);\n",
              "      }\n",
              "    </script>\n",
              "  </div>\n",
              "\n",
              "\n",
              "<div id=\"df-e0957c04-c343-445e-ab56-c98225025e2d\">\n",
              "  <button class=\"colab-df-quickchart\" onclick=\"quickchart('df-e0957c04-c343-445e-ab56-c98225025e2d')\"\n",
              "            title=\"Suggest charts\"\n",
              "            style=\"display:none;\">\n",
              "\n",
              "<svg xmlns=\"http://www.w3.org/2000/svg\" height=\"24px\"viewBox=\"0 0 24 24\"\n",
              "     width=\"24px\">\n",
              "    <g>\n",
              "        <path d=\"M19 3H5c-1.1 0-2 .9-2 2v14c0 1.1.9 2 2 2h14c1.1 0 2-.9 2-2V5c0-1.1-.9-2-2-2zM9 17H7v-7h2v7zm4 0h-2V7h2v10zm4 0h-2v-4h2v4z\"/>\n",
              "    </g>\n",
              "</svg>\n",
              "  </button>\n",
              "\n",
              "<style>\n",
              "  .colab-df-quickchart {\n",
              "      --bg-color: #E8F0FE;\n",
              "      --fill-color: #1967D2;\n",
              "      --hover-bg-color: #E2EBFA;\n",
              "      --hover-fill-color: #174EA6;\n",
              "      --disabled-fill-color: #AAA;\n",
              "      --disabled-bg-color: #DDD;\n",
              "  }\n",
              "\n",
              "  [theme=dark] .colab-df-quickchart {\n",
              "      --bg-color: #3B4455;\n",
              "      --fill-color: #D2E3FC;\n",
              "      --hover-bg-color: #434B5C;\n",
              "      --hover-fill-color: #FFFFFF;\n",
              "      --disabled-bg-color: #3B4455;\n",
              "      --disabled-fill-color: #666;\n",
              "  }\n",
              "\n",
              "  .colab-df-quickchart {\n",
              "    background-color: var(--bg-color);\n",
              "    border: none;\n",
              "    border-radius: 50%;\n",
              "    cursor: pointer;\n",
              "    display: none;\n",
              "    fill: var(--fill-color);\n",
              "    height: 32px;\n",
              "    padding: 0;\n",
              "    width: 32px;\n",
              "  }\n",
              "\n",
              "  .colab-df-quickchart:hover {\n",
              "    background-color: var(--hover-bg-color);\n",
              "    box-shadow: 0 1px 2px rgba(60, 64, 67, 0.3), 0 1px 3px 1px rgba(60, 64, 67, 0.15);\n",
              "    fill: var(--button-hover-fill-color);\n",
              "  }\n",
              "\n",
              "  .colab-df-quickchart-complete:disabled,\n",
              "  .colab-df-quickchart-complete:disabled:hover {\n",
              "    background-color: var(--disabled-bg-color);\n",
              "    fill: var(--disabled-fill-color);\n",
              "    box-shadow: none;\n",
              "  }\n",
              "\n",
              "  .colab-df-spinner {\n",
              "    border: 2px solid var(--fill-color);\n",
              "    border-color: transparent;\n",
              "    border-bottom-color: var(--fill-color);\n",
              "    animation:\n",
              "      spin 1s steps(1) infinite;\n",
              "  }\n",
              "\n",
              "  @keyframes spin {\n",
              "    0% {\n",
              "      border-color: transparent;\n",
              "      border-bottom-color: var(--fill-color);\n",
              "      border-left-color: var(--fill-color);\n",
              "    }\n",
              "    20% {\n",
              "      border-color: transparent;\n",
              "      border-left-color: var(--fill-color);\n",
              "      border-top-color: var(--fill-color);\n",
              "    }\n",
              "    30% {\n",
              "      border-color: transparent;\n",
              "      border-left-color: var(--fill-color);\n",
              "      border-top-color: var(--fill-color);\n",
              "      border-right-color: var(--fill-color);\n",
              "    }\n",
              "    40% {\n",
              "      border-color: transparent;\n",
              "      border-right-color: var(--fill-color);\n",
              "      border-top-color: var(--fill-color);\n",
              "    }\n",
              "    60% {\n",
              "      border-color: transparent;\n",
              "      border-right-color: var(--fill-color);\n",
              "    }\n",
              "    80% {\n",
              "      border-color: transparent;\n",
              "      border-right-color: var(--fill-color);\n",
              "      border-bottom-color: var(--fill-color);\n",
              "    }\n",
              "    90% {\n",
              "      border-color: transparent;\n",
              "      border-bottom-color: var(--fill-color);\n",
              "    }\n",
              "  }\n",
              "</style>\n",
              "\n",
              "  <script>\n",
              "    async function quickchart(key) {\n",
              "      const quickchartButtonEl =\n",
              "        document.querySelector('#' + key + ' button');\n",
              "      quickchartButtonEl.disabled = true;  // To prevent multiple clicks.\n",
              "      quickchartButtonEl.classList.add('colab-df-spinner');\n",
              "      try {\n",
              "        const charts = await google.colab.kernel.invokeFunction(\n",
              "            'suggestCharts', [key], {});\n",
              "      } catch (error) {\n",
              "        console.error('Error during call to suggestCharts:', error);\n",
              "      }\n",
              "      quickchartButtonEl.classList.remove('colab-df-spinner');\n",
              "      quickchartButtonEl.classList.add('colab-df-quickchart-complete');\n",
              "    }\n",
              "    (() => {\n",
              "      let quickchartButtonEl =\n",
              "        document.querySelector('#df-e0957c04-c343-445e-ab56-c98225025e2d button');\n",
              "      quickchartButtonEl.style.display =\n",
              "        google.colab.kernel.accessAllowed ? 'block' : 'none';\n",
              "    })();\n",
              "  </script>\n",
              "</div>\n",
              "    </div>\n",
              "  </div>\n"
            ],
            "application/vnd.google.colaboratory.intrinsic+json": {
              "type": "dataframe",
              "summary": "{\n  \"name\": \"df\",\n  \"rows\": 4727,\n  \"fields\": [\n    {\n      \"column\": \"\\u041d\\u043e\\u043c\\u0435\\u0440 \\u0440\\u0435\\u0439\\u0441\\u0430\",\n      \"properties\": {\n        \"dtype\": \"boolean\",\n        \"num_unique_values\": 1,\n        \"samples\": [\n          false\n        ],\n        \"semantic_type\": \"\",\n        \"description\": \"\"\n      }\n    },\n    {\n      \"column\": \"\\u0410\\u0432\\u0438\\u0430\\u043a\\u043e\\u043c\\u043f\\u0430\\u043d\\u0438\\u044f\",\n      \"properties\": {\n        \"dtype\": \"boolean\",\n        \"num_unique_values\": 1,\n        \"samples\": [\n          false\n        ],\n        \"semantic_type\": \"\",\n        \"description\": \"\"\n      }\n    },\n    {\n      \"column\": \"\\u041c\\u043e\\u0434\\u0435\\u043b\\u044c \\u0441\\u0430\\u043c\\u043e\\u043b\\u0451\\u0442\\u0430\",\n      \"properties\": {\n        \"dtype\": \"boolean\",\n        \"num_unique_values\": 1,\n        \"samples\": [\n          false\n        ],\n        \"semantic_type\": \"\",\n        \"description\": \"\"\n      }\n    },\n    {\n      \"column\": \"\\u0421\\u0442\\u0440\\u0430\\u043d\\u0430\",\n      \"properties\": {\n        \"dtype\": \"boolean\",\n        \"num_unique_values\": 1,\n        \"samples\": [\n          false\n        ],\n        \"semantic_type\": \"\",\n        \"description\": \"\"\n      }\n    },\n    {\n      \"column\": \"\\u0414\\u0430\\u0442\\u0430 \\u043f\\u0440\\u0438\\u0431\\u044b\\u0442\\u0438\\u044f\",\n      \"properties\": {\n        \"dtype\": \"boolean\",\n        \"num_unique_values\": 1,\n        \"samples\": [\n          false\n        ],\n        \"semantic_type\": \"\",\n        \"description\": \"\"\n      }\n    },\n    {\n      \"column\": \"\\u0418\\u043c\\u044f \\u043f\\u0430\\u0441\\u0441\\u0430\\u0436\\u0438\\u0440\\u0430\",\n      \"properties\": {\n        \"dtype\": \"boolean\",\n        \"num_unique_values\": 1,\n        \"samples\": [\n          false\n        ],\n        \"semantic_type\": \"\",\n        \"description\": \"\"\n      }\n    },\n    {\n      \"column\": \"\\u0422\\u0438\\u043f \\u0431\\u0430\\u0433\\u0430\\u0436\\u0430\",\n      \"properties\": {\n        \"dtype\": \"boolean\",\n        \"num_unique_values\": 1,\n        \"samples\": [\n          false\n        ],\n        \"semantic_type\": \"\",\n        \"description\": \"\"\n      }\n    },\n    {\n      \"column\": \"\\u0426\\u0435\\u043b\\u044c \\u043f\\u043e\\u0435\\u0437\\u0434\\u043a\\u0438\",\n      \"properties\": {\n        \"dtype\": \"boolean\",\n        \"num_unique_values\": 1,\n        \"samples\": [\n          false\n        ],\n        \"semantic_type\": \"\",\n        \"description\": \"\"\n      }\n    },\n    {\n      \"column\": \"\\u041a\\u043e\\u043b-\\u0432\\u043e \\u0434\\u043d\\u0435\\u0439 \\u043e\\u0441\\u0442\\u0430\\u043d\\u043e\\u0432\\u043a\\u0438 \\u0432 \\u0441\\u0442\\u0440\\u0430\\u043d\\u0435\",\n      \"properties\": {\n        \"dtype\": \"boolean\",\n        \"num_unique_values\": 1,\n        \"samples\": [\n          false\n        ],\n        \"semantic_type\": \"\",\n        \"description\": \"\"\n      }\n    }\n  ]\n}"
            }
          },
          "metadata": {},
          "execution_count": 78
        }
      ]
    },
    {
      "cell_type": "markdown",
      "source": [
        "## Обзорный анализ"
      ],
      "metadata": {
        "id": "x5rdqLLl1TXi"
      }
    },
    {
      "cell_type": "markdown",
      "source": [],
      "metadata": {
        "id": "LZJ123gCfW5t"
      }
    },
    {
      "cell_type": "code",
      "source": [
        "# за какой период данные?"
      ],
      "metadata": {
        "id": "NdYoXyr04C78"
      },
      "execution_count": 79,
      "outputs": []
    },
    {
      "cell_type": "code",
      "source": [
        "# Определение начальной и конечной даты\n",
        "start_date = df['Дата прибытия'].min()\n",
        "end_date = df['Дата прибытия'].max()\n",
        "\n",
        "# Вывод результата\n",
        "print(f\"Данные охватывают период с {start_date} по {end_date}\")"
      ],
      "metadata": {
        "id": "FT5ZM0dTzOW-",
        "colab": {
          "base_uri": "https://localhost:8080/"
        },
        "outputId": "7d1896d9-1052-424f-e200-9e3a6cff2132"
      },
      "execution_count": 80,
      "outputs": [
        {
          "output_type": "stream",
          "name": "stdout",
          "text": [
            "Данные охватывают период с 2025-01-01 00:00:00 по 2025-02-28 00:00:00\n"
          ]
        }
      ]
    },
    {
      "cell_type": "markdown",
      "source": [],
      "metadata": {
        "id": "EWBJPHXTfUom"
      }
    },
    {
      "cell_type": "code",
      "source": [
        "# уникальное кол-во рейсов"
      ],
      "metadata": {
        "id": "g_IkcMyT6gyt"
      },
      "execution_count": 81,
      "outputs": []
    },
    {
      "cell_type": "code",
      "source": [
        "# Подсчет уникального количества рейсов\n",
        "unique_flights_count = df['Номер рейса'].nunique()\n",
        "\n",
        "# Вывод результата\n",
        "print(f\"Уникальное количество рейсов: {unique_flights_count}\")"
      ],
      "metadata": {
        "colab": {
          "base_uri": "https://localhost:8080/"
        },
        "id": "3uxCPxuzzNW2",
        "outputId": "8fb6c88b-ab48-4484-a9fc-41642f42dd67"
      },
      "execution_count": 82,
      "outputs": [
        {
          "output_type": "stream",
          "name": "stdout",
          "text": [
            "Уникальное количество рейсов: 100\n"
          ]
        }
      ]
    },
    {
      "cell_type": "code",
      "source": [
        "# уникальные авиакомпании"
      ],
      "metadata": {
        "id": "7nsMysSL6lMJ"
      },
      "execution_count": 83,
      "outputs": []
    },
    {
      "cell_type": "code",
      "source": [
        "# Получение списка уникальных авиакомпаний\n",
        "unique_airlines = df['Авиакомпания'].unique()\n",
        "\n",
        "# Вывод списка уникальных авиакомпаний\n",
        "print(\"Список уникальных авиакомпаний:\")\n",
        "print(unique_airlines)"
      ],
      "metadata": {
        "colab": {
          "base_uri": "https://localhost:8080/"
        },
        "collapsed": true,
        "id": "tCsnqyQLzXT3",
        "outputId": "e53a763a-7680-4c16-e037-c0d974e24fd7"
      },
      "execution_count": 84,
      "outputs": [
        {
          "output_type": "stream",
          "name": "stdout",
          "text": [
            "Список уникальных авиакомпаний:\n",
            "['WorldAir' 'AirTravel' 'TravelCompany' 'FlyGlobal' 'FastJet' 'AeroWorld'\n",
            " 'SkyFly' 'BlueSky' 'StarLine' 'GlobalWings']\n"
          ]
        }
      ]
    },
    {
      "cell_type": "code",
      "source": [
        "# уникальные модели самолетов"
      ],
      "metadata": {
        "id": "aAkcR5Sk6tO_"
      },
      "execution_count": 85,
      "outputs": []
    },
    {
      "cell_type": "code",
      "source": [
        "# Получение списка уникальных моделей самолетов\n",
        "unique_aircraft_models = df['Модель самолёта'].unique()\n",
        "\n",
        "# Вывод списка уникальных моделей самолетов\n",
        "print(\"Список уникальных моделей самолетов:\")\n",
        "print(unique_aircraft_models)"
      ],
      "metadata": {
        "colab": {
          "base_uri": "https://localhost:8080/"
        },
        "id": "RmqurlTG1xho",
        "outputId": "3ea1b821-9c4b-4626-fdcc-f595ab333cb3"
      },
      "execution_count": 86,
      "outputs": [
        {
          "output_type": "stream",
          "name": "stdout",
          "text": [
            "Список уникальных моделей самолетов:\n",
            "['Bombardier CRJ900' 'Boeing777' 'Boeing 737' 'Airbus A320' 'Boeing447'\n",
            " 'Airbus A330' 'Boeing787' 'Embraer E190' 'Airbus A321']\n"
          ]
        }
      ]
    },
    {
      "cell_type": "code",
      "source": [
        "# ДЗ: уникальные страны\n",
        "# Получение перечня уникальных стран\n",
        "unique_countries = df['Страна'].unique()\n",
        "\n",
        "# Вывод уникальных стран\n",
        "print(\"Уникальные страны:\")\n",
        "print(unique_countries)"
      ],
      "metadata": {
        "id": "CSVngqRY63vw",
        "colab": {
          "base_uri": "https://localhost:8080/"
        },
        "outputId": "848a0720-8540-4a9c-9765-da7b0eee6e62"
      },
      "execution_count": 87,
      "outputs": [
        {
          "output_type": "stream",
          "name": "stdout",
          "text": [
            "Уникальные страны:\n",
            "['Перу' 'США' 'Турция' 'Германия' 'Мексика' 'Австралия' 'Китай' 'Испания'\n",
            " 'ЮАР' 'ОАЭ' 'Франция' 'Бразилия' 'Япония' 'Финляндия' 'Аргентина'\n",
            " 'Италия' 'Чили' 'Индия' 'Израиль' 'Канада']\n"
          ]
        }
      ]
    },
    {
      "cell_type": "code",
      "source": [
        "# ДЗ: кол-во уникальных пассажиров\n",
        "# Нахождение количества уникальных пассажиров\n",
        "unique_passengers_count = df['Имя пассажира'].nunique()\n",
        "\n",
        "# Вывод результата\n",
        "print(f\"Количество уникальных пассажиров: {unique_passengers_count}\")"
      ],
      "metadata": {
        "id": "0Elz-Z-D8BYK",
        "colab": {
          "base_uri": "https://localhost:8080/"
        },
        "outputId": "022686dd-55dc-4b3e-8476-cf2e529e348d"
      },
      "execution_count": 88,
      "outputs": [
        {
          "output_type": "stream",
          "name": "stdout",
          "text": [
            "Количество уникальных пассажиров: 528\n"
          ]
        }
      ]
    },
    {
      "cell_type": "code",
      "source": [
        "#кол-во пассажиров в разбивке по странам\n",
        "passengers_by_country = df.groupby('Страна').size().reset_index(name='Количество пассажиров')\n",
        "\n",
        "# Вывод результата\n",
        "print(passengers_by_country)"
      ],
      "metadata": {
        "id": "nuY7awQ94xjJ",
        "colab": {
          "base_uri": "https://localhost:8080/"
        },
        "collapsed": true,
        "outputId": "960d04ca-7338-4d02-a06d-5743a0c6114b"
      },
      "execution_count": 89,
      "outputs": [
        {
          "output_type": "stream",
          "name": "stdout",
          "text": [
            "       Страна  Количество пассажиров\n",
            "0   Австралия                    481\n",
            "1   Аргентина                    128\n",
            "2    Бразилия                    355\n",
            "3    Германия                    194\n",
            "4     Израиль                     32\n",
            "5       Индия                     94\n",
            "6     Испания                    231\n",
            "7      Италия                     95\n",
            "8      Канада                     31\n",
            "9       Китай                    300\n",
            "10    Мексика                    355\n",
            "11        ОАЭ                    290\n",
            "12       Перу                    360\n",
            "13        США                    193\n",
            "14     Турция                    332\n",
            "15  Финляндия                    192\n",
            "16    Франция                    321\n",
            "17       Чили                    123\n",
            "18        ЮАР                    423\n",
            "19     Япония                    197\n"
          ]
        }
      ]
    },
    {
      "cell_type": "code",
      "source": [
        "# кол-во пассажиров в разбивке по целям поездки\n",
        "passengers_by_purpose = df.groupby('Цель поездки').size().reset_index(name='Количество пассажиров')\n",
        "\n",
        "# Вывод результата\n",
        "print(passengers_by_purpose)"
      ],
      "metadata": {
        "id": "6o4okl8_6PLR",
        "colab": {
          "base_uri": "https://localhost:8080/"
        },
        "collapsed": true,
        "outputId": "50bf6b54-fc81-40b7-e89e-903d03188be7"
      },
      "execution_count": 90,
      "outputs": [
        {
          "output_type": "stream",
          "name": "stdout",
          "text": [
            "       Цель поездки  Количество пассажиров\n",
            "0             Отдых                    987\n",
            "1  Посещение друзей                    943\n",
            "2            Работа                    946\n",
            "3           Транзит                    915\n",
            "4             Учёба                    936\n"
          ]
        }
      ]
    },
    {
      "cell_type": "code",
      "source": [
        "#ДЗ: кол-во уникальных рейсов на каждую модель самолета (для заказа запчастей)\n",
        "# Группировка по модели самолёта и подсчёт количества уникальных рейсов\n",
        "unique_flights_by_model = df.groupby('Модель самолёта')['Номер рейса'].nunique().reset_index(name='Количество уникальных рейсов')\n",
        "\n",
        "# Вывод результата\n",
        "print(unique_flights_by_model)\n"
      ],
      "metadata": {
        "id": "jSnb6RVH5B9_",
        "colab": {
          "base_uri": "https://localhost:8080/"
        },
        "collapsed": true,
        "outputId": "ff140155-1c27-41ec-848e-b3923c269101"
      },
      "execution_count": 91,
      "outputs": [
        {
          "output_type": "stream",
          "name": "stdout",
          "text": [
            "     Модель самолёта  Количество уникальных рейсов\n",
            "0        Airbus A320                            13\n",
            "1        Airbus A321                             9\n",
            "2        Airbus A330                             6\n",
            "3         Boeing 737                            13\n",
            "4          Boeing447                            14\n",
            "5          Boeing777                            12\n",
            "6          Boeing787                            11\n",
            "7  Bombardier CRJ900                            15\n",
            "8       Embraer E190                             7\n"
          ]
        }
      ]
    },
    {
      "cell_type": "code",
      "source": [
        "# Изучить \"Кол-во дней остановки в стране\" методом describe()\n",
        "\n",
        "days_stay_description = df['Кол-во дней остановки в стране'].describe()\n",
        "# Вывод результата\n",
        "print(\"Описание столбца 'Кол-во дней остановки в стране':\")\n",
        "print(days_stay_description)"
      ],
      "metadata": {
        "id": "59u6zSWl5T2K",
        "colab": {
          "base_uri": "https://localhost:8080/"
        },
        "outputId": "3e42d88a-e9c2-4b26-ea80-8563ab08aafd"
      },
      "execution_count": 92,
      "outputs": [
        {
          "output_type": "stream",
          "name": "stdout",
          "text": [
            "Описание столбца 'Кол-во дней остановки в стране':\n",
            "count    4727.000000\n",
            "mean       45.139835\n",
            "std        26.002875\n",
            "min         1.000000\n",
            "25%        23.000000\n",
            "50%        45.000000\n",
            "75%        68.000000\n",
            "max        90.000000\n",
            "Name: Кол-во дней остановки в стране, dtype: float64\n"
          ]
        }
      ]
    },
    {
      "cell_type": "markdown",
      "source": [
        "## Детальный анализ"
      ],
      "metadata": {
        "id": "QhQQMDN-7Xp9"
      }
    },
    {
      "cell_type": "code",
      "source": [
        "# Внешняя разведка: рейсом CU256 2025-01-10 прилетит преступник с \"Синяя сумка\"\n",
        "# Нужно установить его имя\n",
        "\n",
        "# Фильтрация данных по условиям\n",
        "filtered_data = df[\n",
        "    (df['Номер рейса'] == 'CU256') &\n",
        "    (df['Дата прибытия'] == '2025-01-10') &\n",
        "    (df['Тип багажа'] == 'Синяя сумка')\n",
        "]\n",
        "\n",
        "# Проверка, найдены ли данные\n",
        "if not filtered_data.empty:\n",
        "    # Извлечение имени преступника\n",
        "    criminal_name = filtered_data['Имя пассажира'].iloc[0]\n",
        "    print(f\"Имя преступника: {criminal_name}\")\n",
        "else:\n",
        "    print(\"Преступник с указанными параметрами не найден.\")\n"
      ],
      "metadata": {
        "id": "PqkwGdiW5cEM",
        "colab": {
          "base_uri": "https://localhost:8080/"
        },
        "outputId": "1f9dc341-4f68-43b5-83f3-82c3211f8e0d"
      },
      "execution_count": 93,
      "outputs": [
        {
          "output_type": "stream",
          "name": "stdout",
          "text": [
            "Имя преступника: Malu Kerim\n"
          ]
        }
      ]
    },
    {
      "cell_type": "code",
      "source": [
        "# ДЗ:\n",
        "# В период с 2025-01-15 по 2025-01-17 найти Yakub Novak,\n",
        "# определить, какой багаж он везёт\n",
        "\n",
        "# Преобразование столбца 'Дата прибытия' в datetime (если ещё не преобразован)\n",
        "df['Дата прибытия'] = pd.to_datetime(df['Дата прибытия'])\n",
        "\n",
        "# Фильтрация данных по имени и периоду\n",
        "filtered_data = df[\n",
        "    (df['Имя пассажира'] == 'Yakub Novak') &\n",
        "    (df['Дата прибытия'] >= '2025-01-15') &\n",
        "    (df['Дата прибытия'] <= '2025-01-17')\n",
        "]\n",
        "\n",
        "# Проверка, найдены ли данные\n",
        "if not filtered_data.empty:\n",
        "    # Извлечение информации о багаже\n",
        "    baggage_type = filtered_data['Тип багажа'].iloc[0]\n",
        "    print(f\"Yakub Novak вёз багаж: {baggage_type}\")\n",
        "else:\n",
        "    print(\"Пассажир Yakub Novak не найден в указанный период.\")"
      ],
      "metadata": {
        "id": "ML2aBjZZ7pMq",
        "colab": {
          "base_uri": "https://localhost:8080/"
        },
        "outputId": "b08c0cc6-f328-4168-929f-48db76540c1d"
      },
      "execution_count": 94,
      "outputs": [
        {
          "output_type": "stream",
          "name": "stdout",
          "text": [
            "Yakub Novak вёз багаж: Серебристый дипломат\n"
          ]
        }
      ]
    }
  ]
}